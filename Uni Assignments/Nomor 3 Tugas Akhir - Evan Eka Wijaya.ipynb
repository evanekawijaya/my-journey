{
 "cells": [
  {
   "cell_type": "code",
   "execution_count": 1,
   "metadata": {},
   "outputs": [
    {
     "name": "stdout",
     "output_type": "stream",
     "text": [
      "Masukkan angka: 20\n",
      "Hasil aproksimasinya adalah:  0.3328\n"
     ]
    }
   ],
   "source": [
    "from scipy.stats import bernoulli \n",
    "import numpy as np\n",
    "n=int(input('Masukkan angka: '))\n",
    "kejadian=[]\n",
    "for i in range(10000):\n",
    "    orang=[]\n",
    "    for j in range(1,n+1):\n",
    "        orang.append(bernoulli.rvs(1-1/(3*j-2)))\n",
    "    if np.mean(orang)>0.9:\n",
    "        kejadian.append(1)\n",
    "    else:\n",
    "        kejadian.append(0)\n",
    "aproksimasi=round(np.mean(kejadian),4)\n",
    "print('Hasil aproksimasinya adalah: ',aproksimasi)"
   ]
  },
  {
   "cell_type": "code",
   "execution_count": null,
   "metadata": {},
   "outputs": [],
   "source": []
  }
 ],
 "metadata": {
  "kernelspec": {
   "display_name": "Python 3",
   "language": "python",
   "name": "python3"
  },
  "language_info": {
   "codemirror_mode": {
    "name": "ipython",
    "version": 3
   },
   "file_extension": ".py",
   "mimetype": "text/x-python",
   "name": "python",
   "nbconvert_exporter": "python",
   "pygments_lexer": "ipython3",
   "version": "3.8.3"
  }
 },
 "nbformat": 4,
 "nbformat_minor": 4
}
