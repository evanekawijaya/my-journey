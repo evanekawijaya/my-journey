{
 "cells": [
  {
   "cell_type": "code",
   "execution_count": null,
   "metadata": {},
   "outputs": [
    {
     "name": "stdout",
     "output_type": "stream",
     "text": [
      "Mau tebak berapa karakter? 4\n",
      "Jika ingin menyerah silakan ketik \"menyerah\". \n",
      "Masukkan karakter ke-1: g\n",
      "Masih salah, coba lagi. Jika ingin menyerah silakan ketik \"menyerah\". \n",
      "Masukkan karakter ke-1: S\n",
      "Masih salah, coba lagi. Jika ingin menyerah silakan ketik \"menyerah\". \n",
      "Masukkan karakter ke-1: q\n",
      "Masih salah, coba lagi. Jika ingin menyerah silakan ketik \"menyerah\". \n",
      "Masukkan karakter ke-1: w\n",
      "Masih salah, coba lagi. Jika ingin menyerah silakan ketik \"menyerah\". \n",
      "Masukkan karakter ke-1: e\n",
      "Masih salah, coba lagi. Jika ingin menyerah silakan ketik \"menyerah\". \n",
      "Masukkan karakter ke-1: e\n",
      "Masih salah, coba lagi. Jika ingin menyerah silakan ketik \"menyerah\". \n"
     ]
    }
   ],
   "source": [
    "import random\n",
    "import string\n",
    "N=int(input('Mau tebak berapa karakter? '))\n",
    "magic=''.join(random.choices(string.ascii_letters + string.digits,k = N ))\n",
    "\n",
    "D=str(input('Jika ingin menyerah silakan ketik \"menyerah\". ')).lower()\n",
    "count=0\n",
    "\n",
    "for i in range(len(magic)):\n",
    "    if D!='menyerah':\n",
    "        tebak=str(input('Masukkan karakter ke-'+ str(i+1)+\": \"))\n",
    "        while tebak!=magic[i] and D!='menyerah':\n",
    "            D=str(input('Masih salah, coba lagi. Jika ingin menyerah silakan ketik \"menyerah\". ')).lower()\n",
    "            if D!='menyerah':\n",
    "                tebak=str(input('Masukkan karakter ke-'+ str(i+1)+\": \"))\n",
    "        if D!='menyerah':\n",
    "            print('Karakter ke-' + str(i+1)+' betul')\n",
    "            count+=1\n",
    "            if count!=len(magic):\n",
    "                D=str(input('Jika ingin menyerah silakan ketik \"menyerah\". ')).lower()\n",
    "        \n",
    "if D=='menyerah':\n",
    "    print('Terima kasih sudah bermain. Kodenya adalah : ' + magic)\n",
    "else:\n",
    "    print('Selamat! Kode berhasil ditebak, yaitu : '+ magic)"
   ]
  },
  {
   "cell_type": "code",
   "execution_count": null,
   "metadata": {},
   "outputs": [],
   "source": []
  }
 ],
 "metadata": {
  "kernelspec": {
   "display_name": "Python 3",
   "language": "python",
   "name": "python3"
  },
  "language_info": {
   "codemirror_mode": {
    "name": "ipython",
    "version": 3
   },
   "file_extension": ".py",
   "mimetype": "text/x-python",
   "name": "python",
   "nbconvert_exporter": "python",
   "pygments_lexer": "ipython3",
   "version": "3.8.3"
  }
 },
 "nbformat": 4,
 "nbformat_minor": 4
}
