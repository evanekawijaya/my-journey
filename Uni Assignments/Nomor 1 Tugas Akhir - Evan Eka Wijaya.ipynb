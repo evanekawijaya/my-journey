{
 "cells": [
  {
   "cell_type": "code",
   "execution_count": 1,
   "metadata": {},
   "outputs": [
    {
     "name": "stdout",
     "output_type": "stream",
     "text": [
      "n: 346\n",
      "Masukkan array dengan angka tidak berurut: 1,2,14,1345,123,1,23,45,5,46,7542,634,6562,3243\n",
      "Array berurutan:  [1, 1, 2, 5, 14, 23, 45, 46, 123, 634, 1345, 3243, 6562, 7542]\n",
      "Tidak, tidak ada 2 bilangan didalam array yang bila dikalikan akan menghasilkan n\n"
     ]
    }
   ],
   "source": [
    "n=int(input(\"n: \"))\n",
    "arr = list(int(num) for num in input(\"Masukkan array dengan angka tidak berurut: \").split(\",\"))\n",
    "count=0\n",
    "arr.sort()\n",
    "print(\"Array berurutan: \",arr)\n",
    "for i in range(len(arr)-1):\n",
    "    for j in range (i+1,len(arr)):\n",
    "        if arr[i]*arr[j]==n:\n",
    "            count+=1\n",
    "if count!=0:\n",
    "    print(\"Iya, ada 2 bilangan didalam array yang bila dikalikan akan menghasilkan n\")\n",
    "else:\n",
    "    print(\"Tidak, tidak ada 2 bilangan didalam array yang bila dikalikan akan menghasilkan n\")"
   ]
  },
  {
   "cell_type": "code",
   "execution_count": null,
   "metadata": {},
   "outputs": [],
   "source": []
  }
 ],
 "metadata": {
  "kernelspec": {
   "display_name": "Python 3",
   "language": "python",
   "name": "python3"
  },
  "language_info": {
   "codemirror_mode": {
    "name": "ipython",
    "version": 3
   },
   "file_extension": ".py",
   "mimetype": "text/x-python",
   "name": "python",
   "nbconvert_exporter": "python",
   "pygments_lexer": "ipython3",
   "version": "3.8.3"
  }
 },
 "nbformat": 4,
 "nbformat_minor": 4
}
