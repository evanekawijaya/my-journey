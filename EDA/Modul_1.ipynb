{
  "nbformat": 4,
  "nbformat_minor": 0,
  "metadata": {
    "colab": {
      "name": "Modul1.ipynb",
      "provenance": [],
      "collapsed_sections": [],
      "toc_visible": true
    },
    "kernelspec": {
      "name": "python3",
      "display_name": "Python 3"
    },
    "language_info": {
      "name": "python"
    }
  },
  "cells": [
    {
      "cell_type": "markdown",
      "metadata": {
        "id": "KpQaK2mCNHVB"
      },
      "source": [
        "## 1. Installing Pandas"
      ]
    },
    {
      "cell_type": "markdown",
      "metadata": {
        "id": "8qhKqDqjN_VS"
      },
      "source": [
        "Proses download dan install `pandas` library dapat dilakukan execute baris di bawah ini di local environment's console masing-masing:\n",
        "\n",
        "`pip install pandas`\n",
        "\n",
        "Jika menggunakan google colab, maka pandas sudah ada sehingga tidak usah menginstall lagi (cukup import). Bila menggunakan anaconda, dapat run baris tersebut di anaconda prompt."
      ]
    },
    {
      "cell_type": "code",
      "metadata": {
        "id": "ZUiEQPQWNLAp"
      },
      "source": [
        "import pandas\n",
        "pandas.__version__    #cek versi"
      ],
      "execution_count": null,
      "outputs": []
    },
    {
      "cell_type": "markdown",
      "metadata": {
        "id": "1Clsj64OTxh5"
      },
      "source": [
        "import pandas dan dinamakan sbg 'pd' agar lebih mudah dan efisisen"
      ]
    },
    {
      "cell_type": "code",
      "metadata": {
        "id": "Mfwa6MYUToku"
      },
      "source": [
        "import pandas as pd"
      ],
      "execution_count": null,
      "outputs": []
    },
    {
      "cell_type": "markdown",
      "metadata": {
        "id": "RTpLa5YZUaVB"
      },
      "source": [
        "# Reviewing Pandas Object"
      ]
    },
    {
      "cell_type": "markdown",
      "metadata": {
        "id": "hm-osVzoUf3Y"
      },
      "source": [
        "1. **`Series`** : struktur data dasar yang bisa diibaratkan sebagai array satu dimensi yang mempunyai index \n",
        "2. **`DataFrame`**: struktur data 2 dimensi yang berbentuk tabular (mempunyai baris dan kolom). \n",
        "Kita dapat memikirkan dataframe sebagai kumpulan series"
      ]
    },
    {
      "cell_type": "code",
      "metadata": {
        "id": "rxjeB7AvUeXh"
      },
      "source": [
        "import numpy as np\n",
        "import pandas as pd"
      ],
      "execution_count": null,
      "outputs": []
    },
    {
      "cell_type": "markdown",
      "metadata": {
        "id": "4mR3UScmVJAU"
      },
      "source": [
        "### 2.1. Pandas `Series` Object"
      ]
    },
    {
      "cell_type": "markdown",
      "metadata": {
        "id": "o0yTBXMAVUNz"
      },
      "source": [
        " ``Series`` merupakan array 1 dimensi yang mempunyai index. Dapat dibuat dari list maupun array seperti berikut:"
      ]
    },
    {
      "cell_type": "code",
      "metadata": {
        "colab": {
          "base_uri": "https://localhost:8080/"
        },
        "id": "PlhqC6qqVSrS",
        "outputId": "3e3f9979-531a-48e9-fc2a-66ccab51c280"
      },
      "source": [
        "data = pd.Series([0.15, 0.5, 0.75, 1.0])\n",
        "data"
      ],
      "execution_count": null,
      "outputs": [
        {
          "output_type": "execute_result",
          "data": {
            "text/plain": [
              "0    0.15\n",
              "1    0.50\n",
              "2    0.75\n",
              "3    1.00\n",
              "dtype: float64"
            ]
          },
          "metadata": {
            "tags": []
          },
          "execution_count": 3
        }
      ]
    },
    {
      "cell_type": "markdown",
      "metadata": {
        "id": "GmoKBrtUVo3h"
      },
      "source": [
        "Output `Series` mempunyai `values` di sebelah kanan and `index` di sebelah kiri"
      ]
    },
    {
      "cell_type": "code",
      "metadata": {
        "colab": {
          "base_uri": "https://localhost:8080/"
        },
        "id": "mEyo4ND7VgBV",
        "outputId": "68d360d0-f511-44fe-b3b0-c2fd8c871ae6"
      },
      "source": [
        "data.values"
      ],
      "execution_count": null,
      "outputs": [
        {
          "output_type": "execute_result",
          "data": {
            "text/plain": [
              "array([0.15, 0.5 , 0.75, 1.  ])"
            ]
          },
          "metadata": {
            "tags": []
          },
          "execution_count": 4
        }
      ]
    },
    {
      "cell_type": "code",
      "metadata": {
        "colab": {
          "base_uri": "https://localhost:8080/"
        },
        "id": "4jXbBqXFV0p5",
        "outputId": "8aea307d-479d-47ae-b4cd-9d3bb1df0341"
      },
      "source": [
        "data.index"
      ],
      "execution_count": null,
      "outputs": [
        {
          "output_type": "execute_result",
          "data": {
            "text/plain": [
              "RangeIndex(start=0, stop=4, step=1)"
            ]
          },
          "metadata": {
            "tags": []
          },
          "execution_count": 5
        }
      ]
    },
    {
      "cell_type": "markdown",
      "metadata": {
        "id": "UkalEuvRV7uH"
      },
      "source": [
        "Seperti pada Numpy, kita dapat melakukan slicing pada index untuk mengeluarkan output value yang diinginkan"
      ]
    },
    {
      "cell_type": "code",
      "metadata": {
        "colab": {
          "base_uri": "https://localhost:8080/"
        },
        "id": "yJisbTwBV18A",
        "outputId": "ea76187a-3617-4cc7-9a23-e2e1f6ccd23f"
      },
      "source": [
        "data[1]"
      ],
      "execution_count": null,
      "outputs": [
        {
          "output_type": "execute_result",
          "data": {
            "text/plain": [
              "0.5"
            ]
          },
          "metadata": {
            "tags": []
          },
          "execution_count": 6
        }
      ]
    },
    {
      "cell_type": "code",
      "metadata": {
        "colab": {
          "base_uri": "https://localhost:8080/"
        },
        "id": "Q6Z6S8QyWGCw",
        "outputId": "16f053d0-4879-4c95-d225-18a8544e02e2"
      },
      "source": [
        "data[1:3]"
      ],
      "execution_count": null,
      "outputs": [
        {
          "output_type": "execute_result",
          "data": {
            "text/plain": [
              "1    0.50\n",
              "2    0.75\n",
              "dtype: float64"
            ]
          },
          "metadata": {
            "tags": []
          },
          "execution_count": 7
        }
      ]
    },
    {
      "cell_type": "markdown",
      "metadata": {
        "id": "9YS7VzAAWTf7"
      },
      "source": [
        "Seperti yang dapat dilihat,  ``Series`` pandas jauh lebih umum dan fleksibel dibandingkan dengan array satu dimensi.\n",
        "\n"
      ]
    },
    {
      "cell_type": "markdown",
      "metadata": {
        "id": "YIla9J3fWfUS"
      },
      "source": [
        "#### 2.1.1. `Series` as generalized NumPy array"
      ]
    },
    {
      "cell_type": "markdown",
      "metadata": {
        "id": "a_geUHl7W2I_"
      },
      "source": [
        "Membuat `series` dengan `index` tertentu. Perhatikan, banyaknya index dan value ditetapkan harus sama jumlahnya."
      ]
    },
    {
      "cell_type": "code",
      "metadata": {
        "colab": {
          "base_uri": "https://localhost:8080/"
        },
        "id": "qLbjz8fNWHPK",
        "outputId": "3d1a16be-da23-4206-cde3-c02dcbd4345d"
      },
      "source": [
        "data = pd.Series([0.25, 0.5, 0.75, 1.0],\n",
        "                 index=['a', 'b', 'c', 'd'])\n",
        "data"
      ],
      "execution_count": null,
      "outputs": [
        {
          "output_type": "execute_result",
          "data": {
            "text/plain": [
              "a    0.25\n",
              "b    0.50\n",
              "c    0.75\n",
              "d    1.00\n",
              "dtype: float64"
            ]
          },
          "metadata": {
            "tags": []
          },
          "execution_count": 19
        }
      ]
    },
    {
      "cell_type": "code",
      "metadata": {
        "colab": {
          "base_uri": "https://localhost:8080/"
        },
        "id": "HE1vRRLJZzEM",
        "outputId": "d2939a90-0367-4470-9ffa-603d0be718b1"
      },
      "source": [
        "data['b']  #slicing index"
      ],
      "execution_count": null,
      "outputs": [
        {
          "output_type": "execute_result",
          "data": {
            "text/plain": [
              "0.5"
            ]
          },
          "metadata": {
            "tags": []
          },
          "execution_count": 20
        }
      ]
    },
    {
      "cell_type": "markdown",
      "metadata": {
        "id": "GDgasGZLaWRD"
      },
      "source": [
        "Dapat juga digunakan index sembarang/bebas dalam membuat sebuah series."
      ]
    },
    {
      "cell_type": "code",
      "metadata": {
        "colab": {
          "base_uri": "https://localhost:8080/"
        },
        "id": "zLq2t9czaKE9",
        "outputId": "7fc5d470-cb5a-4475-e522-5a80a353b586"
      },
      "source": [
        "data = pd.Series([0.25, 0.5, 0.75, 1.0],\n",
        "                 index=[2, 5, 3, 7])\n",
        "data"
      ],
      "execution_count": null,
      "outputs": [
        {
          "output_type": "execute_result",
          "data": {
            "text/plain": [
              "2    0.25\n",
              "5    0.50\n",
              "3    0.75\n",
              "7    1.00\n",
              "dtype: float64"
            ]
          },
          "metadata": {
            "tags": []
          },
          "execution_count": 21
        }
      ]
    },
    {
      "cell_type": "code",
      "metadata": {
        "colab": {
          "base_uri": "https://localhost:8080/"
        },
        "id": "XXJxMJhzadj-",
        "outputId": "defe6524-2033-462c-e285-38c3ff34916d"
      },
      "source": [
        "data[5]"
      ],
      "execution_count": null,
      "outputs": [
        {
          "output_type": "execute_result",
          "data": {
            "text/plain": [
              "0.5"
            ]
          },
          "metadata": {
            "tags": []
          },
          "execution_count": 22
        }
      ]
    },
    {
      "cell_type": "markdown",
      "metadata": {
        "id": "h1HrNkosapa_"
      },
      "source": [
        "#### 2.1.2 `Series` as specialized dictionaries"
      ]
    },
    {
      "cell_type": "markdown",
      "metadata": {
        "id": "_yj5V69UayXf"
      },
      "source": [
        "Dictionary adalah koleksi data yang berisi key dan value. Disini, kita akan membuat series dari dictionary."
      ]
    },
    {
      "cell_type": "code",
      "metadata": {
        "colab": {
          "base_uri": "https://localhost:8080/"
        },
        "id": "Siogqx31am2U",
        "outputId": "4932a231-f4f4-4c8a-ed7e-b68ca0ba0a4d"
      },
      "source": [
        "menu_dict = {'Ayam goreng': 12000,\n",
        "             'Ayam bakar': 12001,\n",
        "             'Ayam hidup': 190000,\n",
        "             'Ayam': 20000,\n",
        "             'Ayam juga': 20000}     #nama ayam disebut key dan harga disebut value\n",
        "\n",
        "menu = pd.Series(menu_dict)\n",
        "menu"
      ],
      "execution_count": null,
      "outputs": [
        {
          "output_type": "execute_result",
          "data": {
            "text/plain": [
              "Ayam goreng     12000\n",
              "Ayam bakar      12001\n",
              "Ayam hidup     190000\n",
              "Ayam            20000\n",
              "Ayam juga       20000\n",
              "dtype: int64"
            ]
          },
          "metadata": {
            "tags": []
          },
          "execution_count": 25
        }
      ]
    },
    {
      "cell_type": "code",
      "metadata": {
        "colab": {
          "base_uri": "https://localhost:8080/"
        },
        "id": "eBjAkwfsbSbD",
        "outputId": "cb286298-69e2-4dde-d14d-160c8e627373"
      },
      "source": [
        "menu['Ayam']"
      ],
      "execution_count": null,
      "outputs": [
        {
          "output_type": "execute_result",
          "data": {
            "text/plain": [
              "20000"
            ]
          },
          "metadata": {
            "tags": []
          },
          "execution_count": 26
        }
      ]
    },
    {
      "cell_type": "code",
      "metadata": {
        "colab": {
          "base_uri": "https://localhost:8080/"
        },
        "id": "HSt-4CnFbjw1",
        "outputId": "ce17841e-27ff-426e-e88a-90d2f16b5e59"
      },
      "source": [
        "menu['Ayam goreng':'Ayam hidup']    #dari ayam goreng sampai ayam hidup saja"
      ],
      "execution_count": null,
      "outputs": [
        {
          "output_type": "execute_result",
          "data": {
            "text/plain": [
              "Ayam goreng     12000\n",
              "Ayam bakar      12001\n",
              "Ayam hidup     190000\n",
              "dtype: int64"
            ]
          },
          "metadata": {
            "tags": []
          },
          "execution_count": 27
        }
      ]
    },
    {
      "cell_type": "markdown",
      "metadata": {
        "id": "q0DdCip8cBSf"
      },
      "source": [
        "### 2.2. Pandas `DataFrame` Object"
      ]
    },
    {
      "cell_type": "markdown",
      "metadata": {
        "id": "Kbye2IdwcC45"
      },
      "source": [
        "``DataFrame`` merupakan array dua dimensi yang mempunyai column serta index yang fleksibel. Kedepannya, konsep penggunaan dataframe ini akan banyak digunakan dalam data science & machine learning, terutama dalam data preprocessing/cleaning sebelum melakukan modelling."
      ]
    },
    {
      "cell_type": "code",
      "metadata": {
        "id": "yNwDvUm4wU-a"
      },
      "source": [
        "df_menu1 = pd.DataFrame(list(menu_dict.items()),\n",
        "                   columns = ['Menu','Harga'])"
      ],
      "execution_count": null,
      "outputs": []
    },
    {
      "cell_type": "code",
      "metadata": {
        "id": "hVF0Y9LkwnuX"
      },
      "source": [
        "df_menu1"
      ],
      "execution_count": null,
      "outputs": []
    },
    {
      "cell_type": "code",
      "metadata": {
        "id": "zXE5s-0VwovD"
      },
      "source": [
        "menu_dict2 = {'Menu':['ayam goreng','ayam bakar','ayam rebus'],\n",
        "              'Harga':[17000,15000,10000]}"
      ],
      "execution_count": null,
      "outputs": []
    },
    {
      "cell_type": "code",
      "metadata": {
        "id": "JikeQE2Kw5b5"
      },
      "source": [
        "df_menu2 = pd.DataFrame(menu_dict2)"
      ],
      "execution_count": null,
      "outputs": []
    },
    {
      "cell_type": "code",
      "metadata": {
        "id": "5zxdzF-Tw6j2"
      },
      "source": [
        "df_menu2"
      ],
      "execution_count": null,
      "outputs": []
    },
    {
      "cell_type": "code",
      "metadata": {
        "id": "8Y3nAdsRxDci"
      },
      "source": [
        "menu = ['ayam goreng','ayam bakar','ayam rebus']\n",
        "harga = [17000,15000,10000]\n",
        "df_menu3 = pd.DataFrame({'nama':menu,\n",
        "                         \"biaya\":harga})"
      ],
      "execution_count": null,
      "outputs": []
    },
    {
      "cell_type": "code",
      "metadata": {
        "id": "0zQS6hkwxJNQ"
      },
      "source": [
        "df_menu3"
      ],
      "execution_count": null,
      "outputs": []
    },
    {
      "cell_type": "markdown",
      "metadata": {
        "id": "J2oTF3H4wDWo"
      },
      "source": [
        "Pertama-tama akan dilakukan ``Import`` melalui pd.read_csv (untuk format csv) atau pd.read_excel"
      ]
    },
    {
      "cell_type": "code",
      "metadata": {
        "id": "kZBGPwMRcAkY"
      },
      "source": [
        "#jika dataset dari url\n",
        "url = 'masukkan url disini'\n",
        "df = pd.read_csv(url)"
      ],
      "execution_count": null,
      "outputs": []
    },
    {
      "cell_type": "code",
      "metadata": {
        "id": "3qM7kv8myVsi"
      },
      "source": [
        "#jika upload dataset\n",
        "path = 'masukkan path filenya disini' #jangan lupa nama file.csv nya\n",
        "df = pd.read_csv(path)"
      ],
      "execution_count": null,
      "outputs": []
    },
    {
      "cell_type": "markdown",
      "metadata": {
        "id": "GyySKoMpygE1"
      },
      "source": [
        "bisa tambahkan parameter sep=\",\" atau sep = \";\" tergantung delimiter file yang kamu upload"
      ]
    },
    {
      "cell_type": "markdown",
      "metadata": {
        "id": "Lia5XYtcuOOG"
      },
      "source": [
        "Untuk export/save ke bentuk csv, gunakan .to_csv()"
      ]
    },
    {
      "cell_type": "code",
      "metadata": {
        "id": "ATHaYNgBuVuZ"
      },
      "source": [
        "df.to_csv('nama_file.csv')   #Untuk google colab, file akan muncul di folder layar kiri. Tinggal di download sadja."
      ],
      "execution_count": null,
      "outputs": []
    },
    {
      "cell_type": "code",
      "metadata": {
        "colab": {
          "base_uri": "https://localhost:8080/"
        },
        "id": "xeveOL-Je67U",
        "outputId": "08645636-5470-4a3b-8787-b22cd1e8a1a2"
      },
      "source": [
        "pd.DataFrame.info(df)"
      ],
      "execution_count": null,
      "outputs": [
        {
          "output_type": "stream",
          "text": [
            "<class 'pandas.core.frame.DataFrame'>\n",
            "RangeIndex: 267 entries, 0 to 266\n",
            "Data columns (total 25 columns):\n",
            " #   Column                Non-Null Count  Dtype \n",
            "---  ------                --------------  ----- \n",
            " 0   TAHUN                 267 non-null    int64 \n",
            " 1   NAMA PROVINSI         267 non-null    object\n",
            " 2   NAMA KABUPATEN/KOTA   267 non-null    object\n",
            " 3   NAMA KECAMATAN        267 non-null    object\n",
            " 4   NAMA KELURAHAN        267 non-null    object\n",
            " 5   LUAS WILAYAH (KM2)    267 non-null    object\n",
            " 6   KEPADATAN (JIWA/KM2)  267 non-null    int64 \n",
            " 7   35-39 Laki-Laki       267 non-null    int64 \n",
            " 8   35-39 Perempuan       267 non-null    int64 \n",
            " 9   40-44 Laki-Laki       267 non-null    int64 \n",
            " 10  40-44 Perempuan       267 non-null    int64 \n",
            " 11  45-49 Laki-Laki       267 non-null    int64 \n",
            " 12  45-49 Perempuan       267 non-null    int64 \n",
            " 13  50-54 Laki-Laki       267 non-null    int64 \n",
            " 14  50-54 Perempuan       267 non-null    int64 \n",
            " 15  55-59 Laki-Laki       267 non-null    int64 \n",
            " 16  55-59 Perempuan       267 non-null    int64 \n",
            " 17  60-64 Laki-Laki       267 non-null    int64 \n",
            " 18  60-64 Perempuan       267 non-null    int64 \n",
            " 19  65-69 Laki-Laki       267 non-null    int64 \n",
            " 20  65-69 Perempuan       267 non-null    int64 \n",
            " 21  70-74 Laki-Laki       267 non-null    int64 \n",
            " 22  70-74 Perempuan       267 non-null    int64 \n",
            " 23  >75 Laki-Laki         267 non-null    int64 \n",
            " 24  >75  Perempuan        267 non-null    int64 \n",
            "dtypes: int64(20), object(5)\n",
            "memory usage: 52.3+ KB\n"
          ],
          "name": "stdout"
        }
      ]
    },
    {
      "cell_type": "markdown",
      "metadata": {
        "id": "WazZQ2Abd2RE"
      },
      "source": [
        "1. `DataFrame.head()` -> menampilkan 5 baris pertama\n",
        "2. `DataFrame.tail()` -> menampilkan 5 baris terakhir\n",
        "3. `DataFrame.shape` -> jumlah baris kolom dan\n",
        "4. `DataFrame.columns` -> menampilkan nama kolom\n",
        "5. `DataFrame.index` -> menampilkan index baris\n",
        "6. `DataFrame.info(data)`-> menampilkan informasi mengenai data"
      ]
    },
    {
      "cell_type": "code",
      "metadata": {
        "colab": {
          "base_uri": "https://localhost:8080/",
          "height": 430
        },
        "id": "-FtTNmPsb4vs",
        "outputId": "00b8e02f-e3df-49f9-bfbb-94e490f6cf6a"
      },
      "source": [
        "df.head()"
      ],
      "execution_count": null,
      "outputs": [
        {
          "output_type": "execute_result",
          "data": {
            "text/html": [
              "<div>\n",
              "<style scoped>\n",
              "    .dataframe tbody tr th:only-of-type {\n",
              "        vertical-align: middle;\n",
              "    }\n",
              "\n",
              "    .dataframe tbody tr th {\n",
              "        vertical-align: top;\n",
              "    }\n",
              "\n",
              "    .dataframe thead th {\n",
              "        text-align: right;\n",
              "    }\n",
              "</style>\n",
              "<table border=\"1\" class=\"dataframe\">\n",
              "  <thead>\n",
              "    <tr style=\"text-align: right;\">\n",
              "      <th></th>\n",
              "      <th>TAHUN</th>\n",
              "      <th>NAMA PROVINSI</th>\n",
              "      <th>NAMA KABUPATEN/KOTA</th>\n",
              "      <th>NAMA KECAMATAN</th>\n",
              "      <th>NAMA KELURAHAN</th>\n",
              "      <th>LUAS WILAYAH (KM2)</th>\n",
              "      <th>KEPADATAN (JIWA/KM2)</th>\n",
              "      <th>35-39 Laki-Laki</th>\n",
              "      <th>35-39 Perempuan</th>\n",
              "      <th>40-44 Laki-Laki</th>\n",
              "      <th>40-44 Perempuan</th>\n",
              "      <th>45-49 Laki-Laki</th>\n",
              "      <th>45-49 Perempuan</th>\n",
              "      <th>50-54 Laki-Laki</th>\n",
              "      <th>50-54 Perempuan</th>\n",
              "      <th>55-59 Laki-Laki</th>\n",
              "      <th>55-59 Perempuan</th>\n",
              "      <th>60-64 Laki-Laki</th>\n",
              "      <th>60-64 Perempuan</th>\n",
              "      <th>65-69 Laki-Laki</th>\n",
              "      <th>65-69 Perempuan</th>\n",
              "      <th>70-74 Laki-Laki</th>\n",
              "      <th>70-74 Perempuan</th>\n",
              "      <th>&gt;75 Laki-Laki</th>\n",
              "      <th>&gt;75  Perempuan</th>\n",
              "    </tr>\n",
              "  </thead>\n",
              "  <tbody>\n",
              "    <tr>\n",
              "      <th>0</th>\n",
              "      <td>2013</td>\n",
              "      <td>PROVINSI DKI JAKARTA</td>\n",
              "      <td>KAB.ADM.KEP.SERIBU</td>\n",
              "      <td>KEP. SERIBU UTR</td>\n",
              "      <td>P. PANGGANG</td>\n",
              "      <td>0.91</td>\n",
              "      <td>6779</td>\n",
              "      <td>231</td>\n",
              "      <td>235</td>\n",
              "      <td>233</td>\n",
              "      <td>210</td>\n",
              "      <td>171</td>\n",
              "      <td>158</td>\n",
              "      <td>137</td>\n",
              "      <td>126</td>\n",
              "      <td>98</td>\n",
              "      <td>106</td>\n",
              "      <td>72</td>\n",
              "      <td>65</td>\n",
              "      <td>36</td>\n",
              "      <td>33</td>\n",
              "      <td>33</td>\n",
              "      <td>20</td>\n",
              "      <td>13</td>\n",
              "      <td>27</td>\n",
              "    </tr>\n",
              "    <tr>\n",
              "      <th>1</th>\n",
              "      <td>2013</td>\n",
              "      <td>PROVINSI DKI JAKARTA</td>\n",
              "      <td>KAB.ADM.KEP.SERIBU</td>\n",
              "      <td>KEP. SERIBU UTR</td>\n",
              "      <td>P. KELAPA</td>\n",
              "      <td>3.76</td>\n",
              "      <td>1705</td>\n",
              "      <td>84</td>\n",
              "      <td>88</td>\n",
              "      <td>99</td>\n",
              "      <td>88</td>\n",
              "      <td>72</td>\n",
              "      <td>63</td>\n",
              "      <td>34</td>\n",
              "      <td>29</td>\n",
              "      <td>30</td>\n",
              "      <td>39</td>\n",
              "      <td>29</td>\n",
              "      <td>24</td>\n",
              "      <td>12</td>\n",
              "      <td>21</td>\n",
              "      <td>13</td>\n",
              "      <td>5</td>\n",
              "      <td>5</td>\n",
              "      <td>8</td>\n",
              "    </tr>\n",
              "    <tr>\n",
              "      <th>2</th>\n",
              "      <td>2013</td>\n",
              "      <td>PROVINSI DKI JAKARTA</td>\n",
              "      <td>KAB.ADM.KEP.SERIBU</td>\n",
              "      <td>KEP. SERIBU UTR</td>\n",
              "      <td>P. HARAPAN</td>\n",
              "      <td>3.59</td>\n",
              "      <td>628</td>\n",
              "      <td>255</td>\n",
              "      <td>238</td>\n",
              "      <td>232</td>\n",
              "      <td>234</td>\n",
              "      <td>212</td>\n",
              "      <td>193</td>\n",
              "      <td>150</td>\n",
              "      <td>161</td>\n",
              "      <td>139</td>\n",
              "      <td>101</td>\n",
              "      <td>73</td>\n",
              "      <td>56</td>\n",
              "      <td>18</td>\n",
              "      <td>35</td>\n",
              "      <td>24</td>\n",
              "      <td>25</td>\n",
              "      <td>18</td>\n",
              "      <td>26</td>\n",
              "    </tr>\n",
              "    <tr>\n",
              "      <th>3</th>\n",
              "      <td>2013</td>\n",
              "      <td>PROVINSI DKI JAKARTA</td>\n",
              "      <td>KAB.ADM.KEP.SERIBU</td>\n",
              "      <td>KEP. SERIBU SLT</td>\n",
              "      <td>P. UNTUNG JAWA</td>\n",
              "      <td>0.59</td>\n",
              "      <td>3625</td>\n",
              "      <td>199</td>\n",
              "      <td>185</td>\n",
              "      <td>178</td>\n",
              "      <td>176</td>\n",
              "      <td>162</td>\n",
              "      <td>139</td>\n",
              "      <td>100</td>\n",
              "      <td>119</td>\n",
              "      <td>97</td>\n",
              "      <td>83</td>\n",
              "      <td>58</td>\n",
              "      <td>56</td>\n",
              "      <td>40</td>\n",
              "      <td>54</td>\n",
              "      <td>26</td>\n",
              "      <td>27</td>\n",
              "      <td>16</td>\n",
              "      <td>13</td>\n",
              "    </tr>\n",
              "    <tr>\n",
              "      <th>4</th>\n",
              "      <td>2013</td>\n",
              "      <td>PROVINSI DKI JAKARTA</td>\n",
              "      <td>KAB.ADM.KEP.SERIBU</td>\n",
              "      <td>KEP. SERIBU SLT</td>\n",
              "      <td>P. TIDUNG</td>\n",
              "      <td>1.57</td>\n",
              "      <td>3084</td>\n",
              "      <td>98</td>\n",
              "      <td>75</td>\n",
              "      <td>73</td>\n",
              "      <td>94</td>\n",
              "      <td>67</td>\n",
              "      <td>69</td>\n",
              "      <td>60</td>\n",
              "      <td>40</td>\n",
              "      <td>37</td>\n",
              "      <td>32</td>\n",
              "      <td>22</td>\n",
              "      <td>13</td>\n",
              "      <td>18</td>\n",
              "      <td>15</td>\n",
              "      <td>10</td>\n",
              "      <td>18</td>\n",
              "      <td>11</td>\n",
              "      <td>17</td>\n",
              "    </tr>\n",
              "  </tbody>\n",
              "</table>\n",
              "</div>"
            ],
            "text/plain": [
              "   TAHUN         NAMA PROVINSI  ... >75 Laki-Laki >75  Perempuan\n",
              "0   2013  PROVINSI DKI JAKARTA  ...            13             27\n",
              "1   2013  PROVINSI DKI JAKARTA  ...             5              8\n",
              "2   2013  PROVINSI DKI JAKARTA  ...            18             26\n",
              "3   2013  PROVINSI DKI JAKARTA  ...            16             13\n",
              "4   2013  PROVINSI DKI JAKARTA  ...            11             17\n",
              "\n",
              "[5 rows x 25 columns]"
            ]
          },
          "metadata": {
            "tags": []
          },
          "execution_count": 5
        }
      ]
    },
    {
      "cell_type": "code",
      "metadata": {
        "colab": {
          "base_uri": "https://localhost:8080/",
          "height": 430
        },
        "id": "Ql35OVJaey1u",
        "outputId": "7aac3e71-0c72-4d6e-dccf-4b658a8cdebb"
      },
      "source": [
        "df.tail()"
      ],
      "execution_count": null,
      "outputs": [
        {
          "output_type": "execute_result",
          "data": {
            "text/html": [
              "<div>\n",
              "<style scoped>\n",
              "    .dataframe tbody tr th:only-of-type {\n",
              "        vertical-align: middle;\n",
              "    }\n",
              "\n",
              "    .dataframe tbody tr th {\n",
              "        vertical-align: top;\n",
              "    }\n",
              "\n",
              "    .dataframe thead th {\n",
              "        text-align: right;\n",
              "    }\n",
              "</style>\n",
              "<table border=\"1\" class=\"dataframe\">\n",
              "  <thead>\n",
              "    <tr style=\"text-align: right;\">\n",
              "      <th></th>\n",
              "      <th>TAHUN</th>\n",
              "      <th>NAMA PROVINSI</th>\n",
              "      <th>NAMA KABUPATEN/KOTA</th>\n",
              "      <th>NAMA KECAMATAN</th>\n",
              "      <th>NAMA KELURAHAN</th>\n",
              "      <th>LUAS WILAYAH (KM2)</th>\n",
              "      <th>KEPADATAN (JIWA/KM2)</th>\n",
              "      <th>35-39 Laki-Laki</th>\n",
              "      <th>35-39 Perempuan</th>\n",
              "      <th>40-44 Laki-Laki</th>\n",
              "      <th>40-44 Perempuan</th>\n",
              "      <th>45-49 Laki-Laki</th>\n",
              "      <th>45-49 Perempuan</th>\n",
              "      <th>50-54 Laki-Laki</th>\n",
              "      <th>50-54 Perempuan</th>\n",
              "      <th>55-59 Laki-Laki</th>\n",
              "      <th>55-59 Perempuan</th>\n",
              "      <th>60-64 Laki-Laki</th>\n",
              "      <th>60-64 Perempuan</th>\n",
              "      <th>65-69 Laki-Laki</th>\n",
              "      <th>65-69 Perempuan</th>\n",
              "      <th>70-74 Laki-Laki</th>\n",
              "      <th>70-74 Perempuan</th>\n",
              "      <th>&gt;75 Laki-Laki</th>\n",
              "      <th>&gt;75  Perempuan</th>\n",
              "    </tr>\n",
              "  </thead>\n",
              "  <tbody>\n",
              "    <tr>\n",
              "      <th>262</th>\n",
              "      <td>2013</td>\n",
              "      <td>PROVINSI DKI JAKARTA</td>\n",
              "      <td>JAKARTA TIMUR</td>\n",
              "      <td>CIPAYUNG</td>\n",
              "      <td>MUNJUL</td>\n",
              "      <td>1.90</td>\n",
              "      <td>12734</td>\n",
              "      <td>1167</td>\n",
              "      <td>1112</td>\n",
              "      <td>1026</td>\n",
              "      <td>977</td>\n",
              "      <td>839</td>\n",
              "      <td>800</td>\n",
              "      <td>668</td>\n",
              "      <td>622</td>\n",
              "      <td>482</td>\n",
              "      <td>482</td>\n",
              "      <td>302</td>\n",
              "      <td>291</td>\n",
              "      <td>173</td>\n",
              "      <td>137</td>\n",
              "      <td>118</td>\n",
              "      <td>94</td>\n",
              "      <td>52</td>\n",
              "      <td>51</td>\n",
              "    </tr>\n",
              "    <tr>\n",
              "      <th>263</th>\n",
              "      <td>2013</td>\n",
              "      <td>PROVINSI DKI JAKARTA</td>\n",
              "      <td>JAKARTA TIMUR</td>\n",
              "      <td>CIPAYUNG</td>\n",
              "      <td>SETU</td>\n",
              "      <td>3.25</td>\n",
              "      <td>6028</td>\n",
              "      <td>937</td>\n",
              "      <td>928</td>\n",
              "      <td>857</td>\n",
              "      <td>824</td>\n",
              "      <td>705</td>\n",
              "      <td>640</td>\n",
              "      <td>512</td>\n",
              "      <td>471</td>\n",
              "      <td>392</td>\n",
              "      <td>354</td>\n",
              "      <td>254</td>\n",
              "      <td>211</td>\n",
              "      <td>124</td>\n",
              "      <td>115</td>\n",
              "      <td>64</td>\n",
              "      <td>83</td>\n",
              "      <td>59</td>\n",
              "      <td>64</td>\n",
              "    </tr>\n",
              "    <tr>\n",
              "      <th>264</th>\n",
              "      <td>2013</td>\n",
              "      <td>PROVINSI DKI JAKARTA</td>\n",
              "      <td>JAKARTA TIMUR</td>\n",
              "      <td>CIPAYUNG</td>\n",
              "      <td>BAMBU APUS</td>\n",
              "      <td>3.17</td>\n",
              "      <td>8400</td>\n",
              "      <td>1242</td>\n",
              "      <td>1187</td>\n",
              "      <td>1062</td>\n",
              "      <td>1063</td>\n",
              "      <td>984</td>\n",
              "      <td>917</td>\n",
              "      <td>731</td>\n",
              "      <td>841</td>\n",
              "      <td>596</td>\n",
              "      <td>476</td>\n",
              "      <td>377</td>\n",
              "      <td>250</td>\n",
              "      <td>169</td>\n",
              "      <td>179</td>\n",
              "      <td>108</td>\n",
              "      <td>96</td>\n",
              "      <td>70</td>\n",
              "      <td>84</td>\n",
              "    </tr>\n",
              "    <tr>\n",
              "      <th>265</th>\n",
              "      <td>2013</td>\n",
              "      <td>PROVINSI DKI JAKARTA</td>\n",
              "      <td>JAKARTA TIMUR</td>\n",
              "      <td>CIPAYUNG</td>\n",
              "      <td>LUBANG BUAYA</td>\n",
              "      <td>3.72</td>\n",
              "      <td>18055</td>\n",
              "      <td>3258</td>\n",
              "      <td>2988</td>\n",
              "      <td>2732</td>\n",
              "      <td>2660</td>\n",
              "      <td>2311</td>\n",
              "      <td>2222</td>\n",
              "      <td>1766</td>\n",
              "      <td>1788</td>\n",
              "      <td>1376</td>\n",
              "      <td>1308</td>\n",
              "      <td>959</td>\n",
              "      <td>739</td>\n",
              "      <td>393</td>\n",
              "      <td>385</td>\n",
              "      <td>293</td>\n",
              "      <td>291</td>\n",
              "      <td>160</td>\n",
              "      <td>165</td>\n",
              "    </tr>\n",
              "    <tr>\n",
              "      <th>266</th>\n",
              "      <td>2013</td>\n",
              "      <td>PROVINSI DKI JAKARTA</td>\n",
              "      <td>JAKARTA TIMUR</td>\n",
              "      <td>CIPAYUNG</td>\n",
              "      <td>CEGER</td>\n",
              "      <td>3.63</td>\n",
              "      <td>5492</td>\n",
              "      <td>1007</td>\n",
              "      <td>930</td>\n",
              "      <td>874</td>\n",
              "      <td>804</td>\n",
              "      <td>701</td>\n",
              "      <td>652</td>\n",
              "      <td>493</td>\n",
              "      <td>503</td>\n",
              "      <td>416</td>\n",
              "      <td>390</td>\n",
              "      <td>279</td>\n",
              "      <td>214</td>\n",
              "      <td>110</td>\n",
              "      <td>153</td>\n",
              "      <td>101</td>\n",
              "      <td>53</td>\n",
              "      <td>45</td>\n",
              "      <td>44</td>\n",
              "    </tr>\n",
              "  </tbody>\n",
              "</table>\n",
              "</div>"
            ],
            "text/plain": [
              "     TAHUN         NAMA PROVINSI  ... >75 Laki-Laki >75  Perempuan\n",
              "262   2013  PROVINSI DKI JAKARTA  ...            52             51\n",
              "263   2013  PROVINSI DKI JAKARTA  ...            59             64\n",
              "264   2013  PROVINSI DKI JAKARTA  ...            70             84\n",
              "265   2013  PROVINSI DKI JAKARTA  ...           160            165\n",
              "266   2013  PROVINSI DKI JAKARTA  ...            45             44\n",
              "\n",
              "[5 rows x 25 columns]"
            ]
          },
          "metadata": {
            "tags": []
          },
          "execution_count": 6
        }
      ]
    },
    {
      "cell_type": "code",
      "metadata": {
        "colab": {
          "base_uri": "https://localhost:8080/",
          "height": 170
        },
        "id": "vnzHAwsgeDS3",
        "outputId": "0f47f91c-ff15-464f-adc6-285bbd0d2421"
      },
      "source": [
        "df.head(1)  #menampilkan 1 baris pertama saja"
      ],
      "execution_count": null,
      "outputs": [
        {
          "output_type": "execute_result",
          "data": {
            "text/html": [
              "<div>\n",
              "<style scoped>\n",
              "    .dataframe tbody tr th:only-of-type {\n",
              "        vertical-align: middle;\n",
              "    }\n",
              "\n",
              "    .dataframe tbody tr th {\n",
              "        vertical-align: top;\n",
              "    }\n",
              "\n",
              "    .dataframe thead th {\n",
              "        text-align: right;\n",
              "    }\n",
              "</style>\n",
              "<table border=\"1\" class=\"dataframe\">\n",
              "  <thead>\n",
              "    <tr style=\"text-align: right;\">\n",
              "      <th></th>\n",
              "      <th>TAHUN</th>\n",
              "      <th>NAMA PROVINSI</th>\n",
              "      <th>NAMA KABUPATEN/KOTA</th>\n",
              "      <th>NAMA KECAMATAN</th>\n",
              "      <th>NAMA KELURAHAN</th>\n",
              "      <th>LUAS WILAYAH (KM2)</th>\n",
              "      <th>KEPADATAN (JIWA/KM2)</th>\n",
              "      <th>35-39 Laki-Laki</th>\n",
              "      <th>35-39 Perempuan</th>\n",
              "      <th>40-44 Laki-Laki</th>\n",
              "      <th>40-44 Perempuan</th>\n",
              "      <th>45-49 Laki-Laki</th>\n",
              "      <th>45-49 Perempuan</th>\n",
              "      <th>50-54 Laki-Laki</th>\n",
              "      <th>50-54 Perempuan</th>\n",
              "      <th>55-59 Laki-Laki</th>\n",
              "      <th>55-59 Perempuan</th>\n",
              "      <th>60-64 Laki-Laki</th>\n",
              "      <th>60-64 Perempuan</th>\n",
              "      <th>65-69 Laki-Laki</th>\n",
              "      <th>65-69 Perempuan</th>\n",
              "      <th>70-74 Laki-Laki</th>\n",
              "      <th>70-74 Perempuan</th>\n",
              "      <th>&gt;75 Laki-Laki</th>\n",
              "      <th>&gt;75  Perempuan</th>\n",
              "    </tr>\n",
              "  </thead>\n",
              "  <tbody>\n",
              "    <tr>\n",
              "      <th>0</th>\n",
              "      <td>2013</td>\n",
              "      <td>PROVINSI DKI JAKARTA</td>\n",
              "      <td>KAB.ADM.KEP.SERIBU</td>\n",
              "      <td>KEP. SERIBU UTR</td>\n",
              "      <td>P. PANGGANG</td>\n",
              "      <td>0.91</td>\n",
              "      <td>6779</td>\n",
              "      <td>231</td>\n",
              "      <td>235</td>\n",
              "      <td>233</td>\n",
              "      <td>210</td>\n",
              "      <td>171</td>\n",
              "      <td>158</td>\n",
              "      <td>137</td>\n",
              "      <td>126</td>\n",
              "      <td>98</td>\n",
              "      <td>106</td>\n",
              "      <td>72</td>\n",
              "      <td>65</td>\n",
              "      <td>36</td>\n",
              "      <td>33</td>\n",
              "      <td>33</td>\n",
              "      <td>20</td>\n",
              "      <td>13</td>\n",
              "      <td>27</td>\n",
              "    </tr>\n",
              "  </tbody>\n",
              "</table>\n",
              "</div>"
            ],
            "text/plain": [
              "   TAHUN         NAMA PROVINSI  ... >75 Laki-Laki >75  Perempuan\n",
              "0   2013  PROVINSI DKI JAKARTA  ...            13             27\n",
              "\n",
              "[1 rows x 25 columns]"
            ]
          },
          "metadata": {
            "tags": []
          },
          "execution_count": 30
        }
      ]
    },
    {
      "cell_type": "code",
      "metadata": {
        "colab": {
          "base_uri": "https://localhost:8080/"
        },
        "id": "k47H9vXZeIdB",
        "outputId": "5af28511-852e-4380-d020-9d99b3c5487b"
      },
      "source": [
        "df.columns  #melihat nama kolom apa aja"
      ],
      "execution_count": null,
      "outputs": [
        {
          "output_type": "execute_result",
          "data": {
            "text/plain": [
              "Index(['TAHUN', 'NAMA PROVINSI', 'NAMA KABUPATEN/KOTA', 'NAMA KECAMATAN',\n",
              "       'NAMA KELURAHAN', 'LUAS WILAYAH (KM2)', 'KEPADATAN (JIWA/KM2)',\n",
              "       '35-39 Laki-Laki', '35-39 Perempuan', '40-44 Laki-Laki',\n",
              "       '40-44 Perempuan', '45-49 Laki-Laki', '45-49 Perempuan',\n",
              "       '50-54 Laki-Laki', '50-54 Perempuan', '55-59 Laki-Laki',\n",
              "       '55-59 Perempuan', '60-64 Laki-Laki', '60-64 Perempuan',\n",
              "       '65-69 Laki-Laki', '65-69 Perempuan', '70-74 Laki-Laki',\n",
              "       '70-74 Perempuan', '>75 Laki-Laki', '>75  Perempuan'],\n",
              "      dtype='object')"
            ]
          },
          "metadata": {
            "tags": []
          },
          "execution_count": 31
        }
      ]
    },
    {
      "cell_type": "code",
      "metadata": {
        "colab": {
          "base_uri": "https://localhost:8080/"
        },
        "id": "wgL3qYNleNMK",
        "outputId": "a0371c1d-19f2-41c1-e253-b0f4de9074f6"
      },
      "source": [
        "df.index"
      ],
      "execution_count": null,
      "outputs": [
        {
          "output_type": "execute_result",
          "data": {
            "text/plain": [
              "RangeIndex(start=0, stop=267, step=1)"
            ]
          },
          "metadata": {
            "tags": []
          },
          "execution_count": 32
        }
      ]
    },
    {
      "cell_type": "code",
      "metadata": {
        "colab": {
          "base_uri": "https://localhost:8080/"
        },
        "id": "bENoS7NeeP0M",
        "outputId": "f09ba2e7-181b-442f-8ff2-27edf03d6d41"
      },
      "source": [
        "df.shape"
      ],
      "execution_count": null,
      "outputs": [
        {
          "output_type": "execute_result",
          "data": {
            "text/plain": [
              "(267, 25)"
            ]
          },
          "metadata": {
            "tags": []
          },
          "execution_count": 33
        }
      ]
    },
    {
      "cell_type": "markdown",
      "metadata": {
        "id": "X1o-zPt7edJo"
      },
      "source": [
        " ### 2.3. Pandas `Index` Object"
      ]
    },
    {
      "cell_type": "markdown",
      "metadata": {
        "id": "JjMwxM-Ue7yn"
      },
      "source": [
        "Slicing pada Index object dapat dilakukan dalam bentuk list maupun array. "
      ]
    },
    {
      "cell_type": "code",
      "metadata": {
        "colab": {
          "base_uri": "https://localhost:8080/"
        },
        "id": "UGmb6goxeU3V",
        "outputId": "bed7ef90-8bb8-4ea0-f5da-6cd243ad69d6"
      },
      "source": [
        "ind = pd.Index([2, 3, 5, 7, 11])   #define sebuah index\n",
        "ind"
      ],
      "execution_count": null,
      "outputs": [
        {
          "output_type": "execute_result",
          "data": {
            "text/plain": [
              "Int64Index([2, 3, 5, 7, 11], dtype='int64')"
            ]
          },
          "metadata": {
            "tags": []
          },
          "execution_count": 34
        }
      ]
    },
    {
      "cell_type": "code",
      "metadata": {
        "colab": {
          "base_uri": "https://localhost:8080/"
        },
        "id": "Y8qQ07I9fPWN",
        "outputId": "064ffc23-b73c-495e-8850-ea64abbd0171"
      },
      "source": [
        "ind[1] # menampilkan elemen pada posisi 1 (index python dimulai dari 0)"
      ],
      "execution_count": null,
      "outputs": [
        {
          "output_type": "execute_result",
          "data": {
            "text/plain": [
              "3"
            ]
          },
          "metadata": {
            "tags": []
          },
          "execution_count": 36
        }
      ]
    },
    {
      "cell_type": "code",
      "metadata": {
        "colab": {
          "base_uri": "https://localhost:8080/"
        },
        "id": "_pA-mmk-fQxG",
        "outputId": "2b816cc4-b9da-41bf-d63c-f176ee03bee2"
      },
      "source": [
        "ind[::2] # menampilkan elemen dimulai dari posisi 0 dua per dua."
      ],
      "execution_count": null,
      "outputs": [
        {
          "output_type": "execute_result",
          "data": {
            "text/plain": [
              "Int64Index([2, 5, 11], dtype='int64')"
            ]
          },
          "metadata": {
            "tags": []
          },
          "execution_count": 38
        }
      ]
    },
    {
      "cell_type": "markdown",
      "metadata": {
        "id": "I6j-8AQdf1Ms"
      },
      "source": [
        "salah satu perbedaan ``Index`` object dan array `Numpy` arrays adalah indices-nya yang **immutable**. Artinya, indicenya tidak dapat dilakukan modifikasi / update value ke dalamnya."
      ]
    },
    {
      "cell_type": "code",
      "metadata": {
        "colab": {
          "base_uri": "https://localhost:8080/",
          "height": 301
        },
        "id": "XQsqp132fpPw",
        "outputId": "e3d9053f-2135-4bc9-e98a-678a69333c75"
      },
      "source": [
        "ind[1] = 0 #akan error"
      ],
      "execution_count": null,
      "outputs": [
        {
          "output_type": "error",
          "ename": "TypeError",
          "evalue": "ignored",
          "traceback": [
            "\u001b[0;31m---------------------------------------------------------------------------\u001b[0m",
            "\u001b[0;31mTypeError\u001b[0m                                 Traceback (most recent call last)",
            "\u001b[0;32m<ipython-input-39-1d1e0680fdf3>\u001b[0m in \u001b[0;36m<module>\u001b[0;34m()\u001b[0m\n\u001b[0;32m----> 1\u001b[0;31m \u001b[0mind\u001b[0m\u001b[0;34m[\u001b[0m\u001b[0;36m1\u001b[0m\u001b[0;34m]\u001b[0m \u001b[0;34m=\u001b[0m \u001b[0;36m0\u001b[0m \u001b[0;31m#akan error\u001b[0m\u001b[0;34m\u001b[0m\u001b[0;34m\u001b[0m\u001b[0m\n\u001b[0m",
            "\u001b[0;32m/usr/local/lib/python3.7/dist-packages/pandas/core/indexes/base.py\u001b[0m in \u001b[0;36m__setitem__\u001b[0;34m(self, key, value)\u001b[0m\n\u001b[1;32m   4082\u001b[0m \u001b[0;34m\u001b[0m\u001b[0m\n\u001b[1;32m   4083\u001b[0m     \u001b[0;32mdef\u001b[0m \u001b[0m__setitem__\u001b[0m\u001b[0;34m(\u001b[0m\u001b[0mself\u001b[0m\u001b[0;34m,\u001b[0m \u001b[0mkey\u001b[0m\u001b[0;34m,\u001b[0m \u001b[0mvalue\u001b[0m\u001b[0;34m)\u001b[0m\u001b[0;34m:\u001b[0m\u001b[0;34m\u001b[0m\u001b[0;34m\u001b[0m\u001b[0m\n\u001b[0;32m-> 4084\u001b[0;31m         \u001b[0;32mraise\u001b[0m \u001b[0mTypeError\u001b[0m\u001b[0;34m(\u001b[0m\u001b[0;34m\"Index does not support mutable operations\"\u001b[0m\u001b[0;34m)\u001b[0m\u001b[0;34m\u001b[0m\u001b[0;34m\u001b[0m\u001b[0m\n\u001b[0m\u001b[1;32m   4085\u001b[0m \u001b[0;34m\u001b[0m\u001b[0m\n\u001b[1;32m   4086\u001b[0m     \u001b[0;32mdef\u001b[0m \u001b[0m__getitem__\u001b[0m\u001b[0;34m(\u001b[0m\u001b[0mself\u001b[0m\u001b[0;34m,\u001b[0m \u001b[0mkey\u001b[0m\u001b[0;34m)\u001b[0m\u001b[0;34m:\u001b[0m\u001b[0;34m\u001b[0m\u001b[0;34m\u001b[0m\u001b[0m\n",
            "\u001b[0;31mTypeError\u001b[0m: Index does not support mutable operations"
          ]
        }
      ]
    },
    {
      "cell_type": "markdown",
      "metadata": {
        "id": "6xpT13jtgX4N"
      },
      "source": [
        "## 3. Data Indexing and Selection"
      ]
    },
    {
      "cell_type": "markdown",
      "metadata": {
        "id": "nBdisXCngoEQ"
      },
      "source": [
        "### 3.1. Data Selection in `Series`"
      ]
    },
    {
      "cell_type": "code",
      "metadata": {
        "colab": {
          "base_uri": "https://localhost:8080/"
        },
        "id": "eJ7hp1NcgUKu",
        "outputId": "40a1a98b-d79d-4af6-9f43-f7bdc11f8a02"
      },
      "source": [
        "data = pd.Series([0.25, 0.5, 0.75, 1.0],\n",
        "                 index=['a', 'b', 'c', 'd'])      #buat sebuah series\n",
        "data"
      ],
      "execution_count": null,
      "outputs": [
        {
          "output_type": "execute_result",
          "data": {
            "text/plain": [
              "a    0.25\n",
              "b    0.50\n",
              "c    0.75\n",
              "d    1.00\n",
              "dtype: float64"
            ]
          },
          "metadata": {
            "tags": []
          },
          "execution_count": 40
        }
      ]
    },
    {
      "cell_type": "code",
      "metadata": {
        "colab": {
          "base_uri": "https://localhost:8080/"
        },
        "id": "OlYhI2q3g3f7",
        "outputId": "90674d4a-688b-4113-bff4-dc2c2de028c9"
      },
      "source": [
        "data['d'] = 0.95 # update value dari index 'd' menjadi 0.95\n",
        "data"
      ],
      "execution_count": null,
      "outputs": [
        {
          "output_type": "execute_result",
          "data": {
            "text/plain": [
              "a    0.25\n",
              "b    0.50\n",
              "c    0.75\n",
              "d    0.95\n",
              "dtype: float64"
            ]
          },
          "metadata": {
            "tags": []
          },
          "execution_count": 41
        }
      ]
    },
    {
      "cell_type": "code",
      "metadata": {
        "colab": {
          "base_uri": "https://localhost:8080/"
        },
        "id": "3oTMGcM9hD7L",
        "outputId": "3075144c-7e6a-4352-eada-220acdbc9a43"
      },
      "source": [
        "data['e'] = 1.25 # Menambah value baru dengan index 'e'\n",
        "data"
      ],
      "execution_count": null,
      "outputs": [
        {
          "output_type": "execute_result",
          "data": {
            "text/plain": [
              "a    0.25\n",
              "b    0.50\n",
              "c    0.75\n",
              "d    0.95\n",
              "e    1.25\n",
              "dtype: float64"
            ]
          },
          "metadata": {
            "tags": []
          },
          "execution_count": 42
        }
      ]
    },
    {
      "cell_type": "markdown",
      "metadata": {
        "id": "sldDz_9ahZAc"
      },
      "source": [
        "Melakukan slicing dapat dilakukan dengan dua cara, secara explicit dan implicit (integer index)"
      ]
    },
    {
      "cell_type": "code",
      "metadata": {
        "colab": {
          "base_uri": "https://localhost:8080/"
        },
        "id": "a-ifY_lTg_9P",
        "outputId": "065aab46-9a9d-400e-c558-d7e93f046547"
      },
      "source": [
        "data['a':'c']   #explicit"
      ],
      "execution_count": null,
      "outputs": [
        {
          "output_type": "execute_result",
          "data": {
            "text/plain": [
              "a    0.25\n",
              "b    0.50\n",
              "c    0.75\n",
              "dtype: float64"
            ]
          },
          "metadata": {
            "tags": []
          },
          "execution_count": 43
        }
      ]
    },
    {
      "cell_type": "code",
      "metadata": {
        "colab": {
          "base_uri": "https://localhost:8080/"
        },
        "id": "e-MJblHjhtn_",
        "outputId": "60ba1c50-dffe-400f-d388-ec690ab9c047"
      },
      "source": [
        "data[0:3]  #implicit integer index"
      ],
      "execution_count": null,
      "outputs": [
        {
          "output_type": "execute_result",
          "data": {
            "text/plain": [
              "a    0.25\n",
              "b    0.50\n",
              "c    0.75\n",
              "dtype: float64"
            ]
          },
          "metadata": {
            "tags": []
          },
          "execution_count": 45
        }
      ]
    },
    {
      "cell_type": "markdown",
      "metadata": {
        "id": "stBHgN4-iA_d"
      },
      "source": [
        "Kita dapat menampilkan sekumpulan indices yang telah ditentukan dengan menaruhnya ke dalam sebuah list"
      ]
    },
    {
      "cell_type": "code",
      "metadata": {
        "colab": {
          "base_uri": "https://localhost:8080/"
        },
        "id": "9DSJLxtOhrrf",
        "outputId": "1d26a591-f689-4695-f410-24259e24965c"
      },
      "source": [
        "data[['a', 'e']]      #  'a' dan 'e' dimasukkan dalam list menjadi ['a','e']"
      ],
      "execution_count": null,
      "outputs": [
        {
          "output_type": "execute_result",
          "data": {
            "text/plain": [
              "a    0.25\n",
              "e    1.25\n",
              "dtype: float64"
            ]
          },
          "metadata": {
            "tags": []
          },
          "execution_count": 46
        }
      ]
    },
    {
      "cell_type": "markdown",
      "metadata": {
        "id": "dzBiD8WPiVY-"
      },
      "source": [
        "Perhatikan, saat melakukan slicing dengan explicit index (misal, `data ['a':'c']`), final index diikutsertakan dalam outputnya, sementara ketika melakukan slicing dengan implicit index (misal, `data[0:2]`), final index tidak diikutsertakan dalam outputnya. Ketika slicing melalui list (misal, `data [['a', 'e']]`), semua indices dari a sampai e akan ditampilkan."
      ]
    },
    {
      "cell_type": "markdown",
      "metadata": {
        "id": "Rv2p6QPii25u"
      },
      "source": [
        "### 3.2. Indexers: loc, iloc for `Series`"
      ]
    },
    {
      "cell_type": "markdown",
      "metadata": {
        "id": "ROl-eu9fjsaE"
      },
      "source": [
        "Secara sederhana,\n",
        "**loc** : slicing & indexing melalui explicit index. Sedangkan **iloc** : slicing & indexing melalui implisit index (angka)"
      ]
    },
    {
      "cell_type": "code",
      "metadata": {
        "colab": {
          "base_uri": "https://localhost:8080/"
        },
        "id": "NqC75nirjgIr",
        "outputId": "21c16d27-2169-4cbc-ce71-9e5de6545c5d"
      },
      "source": [
        "data = pd.Series(['Hello', 'DPhi', 'world'], index=['a', 'b', 'c'])     #define sebuah series baru\n",
        "data"
      ],
      "execution_count": null,
      "outputs": [
        {
          "output_type": "execute_result",
          "data": {
            "text/plain": [
              "a    Hello\n",
              "b     DPhi\n",
              "c    world\n",
              "dtype: object"
            ]
          },
          "metadata": {
            "tags": []
          },
          "execution_count": 6
        }
      ]
    },
    {
      "cell_type": "markdown",
      "metadata": {
        "id": "K-2x52tyjiF0"
      },
      "source": [
        "#### 3.2.1. `loc` attribute"
      ]
    },
    {
      "cell_type": "code",
      "metadata": {
        "colab": {
          "base_uri": "https://localhost:8080/",
          "height": 36
        },
        "id": "CWDyszPijgjb",
        "outputId": "612d68ab-1694-4be7-b09e-b6d2a510ae55"
      },
      "source": [
        "data.loc['a']    #menampilkan value dari index 'a'"
      ],
      "execution_count": null,
      "outputs": [
        {
          "output_type": "execute_result",
          "data": {
            "application/vnd.google.colaboratory.intrinsic+json": {
              "type": "string"
            },
            "text/plain": [
              "'Hello'"
            ]
          },
          "metadata": {
            "tags": []
          },
          "execution_count": 48
        }
      ]
    },
    {
      "cell_type": "markdown",
      "metadata": {
        "id": "UYWTJc_ikg2K"
      },
      "source": [
        "#### 3.2.2. `iloc` attribute"
      ]
    },
    {
      "cell_type": "code",
      "metadata": {
        "colab": {
          "base_uri": "https://localhost:8080/",
          "height": 36
        },
        "id": "uWjUbdIykdtu",
        "outputId": "19da3533-214b-4d9a-84a6-a430db669cd2"
      },
      "source": [
        "data.iloc[1]   # menampilkan index ke 1"
      ],
      "execution_count": null,
      "outputs": [
        {
          "output_type": "execute_result",
          "data": {
            "application/vnd.google.colaboratory.intrinsic+json": {
              "type": "string"
            },
            "text/plain": [
              "'DPhi'"
            ]
          },
          "metadata": {
            "tags": []
          },
          "execution_count": 50
        }
      ]
    },
    {
      "cell_type": "code",
      "metadata": {
        "colab": {
          "base_uri": "https://localhost:8080/"
        },
        "id": "p-_MVd7PkqpJ",
        "outputId": "cd988071-28e5-4dee-ccd4-3cbeaa45bbdc"
      },
      "source": [
        "data.iloc[1:3]   #menampilkan index ke 1 dan 2"
      ],
      "execution_count": null,
      "outputs": [
        {
          "output_type": "execute_result",
          "data": {
            "text/plain": [
              "b     DPhi\n",
              "c    world\n",
              "dtype: object"
            ]
          },
          "metadata": {
            "tags": []
          },
          "execution_count": 51
        }
      ]
    },
    {
      "cell_type": "markdown",
      "metadata": {
        "id": "70B3TGvIlUqJ"
      },
      "source": [
        "### 3.3. Data Selection in `DataFrame`"
      ]
    },
    {
      "cell_type": "code",
      "metadata": {
        "colab": {
          "base_uri": "https://localhost:8080/",
          "height": 170
        },
        "id": "yQtzFGm1ktHB",
        "outputId": "ef93478c-26f3-46a1-e732-b8bdc49d9c5d"
      },
      "source": [
        "df.head(1)"
      ],
      "execution_count": null,
      "outputs": [
        {
          "output_type": "execute_result",
          "data": {
            "text/html": [
              "<div>\n",
              "<style scoped>\n",
              "    .dataframe tbody tr th:only-of-type {\n",
              "        vertical-align: middle;\n",
              "    }\n",
              "\n",
              "    .dataframe tbody tr th {\n",
              "        vertical-align: top;\n",
              "    }\n",
              "\n",
              "    .dataframe thead th {\n",
              "        text-align: right;\n",
              "    }\n",
              "</style>\n",
              "<table border=\"1\" class=\"dataframe\">\n",
              "  <thead>\n",
              "    <tr style=\"text-align: right;\">\n",
              "      <th></th>\n",
              "      <th>TAHUN</th>\n",
              "      <th>NAMA PROVINSI</th>\n",
              "      <th>NAMA KABUPATEN/KOTA</th>\n",
              "      <th>NAMA KECAMATAN</th>\n",
              "      <th>NAMA KELURAHAN</th>\n",
              "      <th>LUAS WILAYAH (KM2)</th>\n",
              "      <th>KEPADATAN (JIWA/KM2)</th>\n",
              "      <th>35-39 Laki-Laki</th>\n",
              "      <th>35-39 Perempuan</th>\n",
              "      <th>40-44 Laki-Laki</th>\n",
              "      <th>40-44 Perempuan</th>\n",
              "      <th>45-49 Laki-Laki</th>\n",
              "      <th>45-49 Perempuan</th>\n",
              "      <th>50-54 Laki-Laki</th>\n",
              "      <th>50-54 Perempuan</th>\n",
              "      <th>55-59 Laki-Laki</th>\n",
              "      <th>55-59 Perempuan</th>\n",
              "      <th>60-64 Laki-Laki</th>\n",
              "      <th>60-64 Perempuan</th>\n",
              "      <th>65-69 Laki-Laki</th>\n",
              "      <th>65-69 Perempuan</th>\n",
              "      <th>70-74 Laki-Laki</th>\n",
              "      <th>70-74 Perempuan</th>\n",
              "      <th>&gt;75 Laki-Laki</th>\n",
              "      <th>&gt;75  Perempuan</th>\n",
              "    </tr>\n",
              "  </thead>\n",
              "  <tbody>\n",
              "    <tr>\n",
              "      <th>0</th>\n",
              "      <td>2013</td>\n",
              "      <td>PROVINSI DKI JAKARTA</td>\n",
              "      <td>KAB.ADM.KEP.SERIBU</td>\n",
              "      <td>KEP. SERIBU UTR</td>\n",
              "      <td>P. PANGGANG</td>\n",
              "      <td>0.91</td>\n",
              "      <td>6779</td>\n",
              "      <td>231</td>\n",
              "      <td>235</td>\n",
              "      <td>233</td>\n",
              "      <td>210</td>\n",
              "      <td>171</td>\n",
              "      <td>158</td>\n",
              "      <td>137</td>\n",
              "      <td>126</td>\n",
              "      <td>98</td>\n",
              "      <td>106</td>\n",
              "      <td>72</td>\n",
              "      <td>65</td>\n",
              "      <td>36</td>\n",
              "      <td>33</td>\n",
              "      <td>33</td>\n",
              "      <td>20</td>\n",
              "      <td>13</td>\n",
              "      <td>27</td>\n",
              "    </tr>\n",
              "  </tbody>\n",
              "</table>\n",
              "</div>"
            ],
            "text/plain": [
              "   TAHUN         NAMA PROVINSI  ... >75 Laki-Laki >75  Perempuan\n",
              "0   2013  PROVINSI DKI JAKARTA  ...            13             27\n",
              "\n",
              "[1 rows x 25 columns]"
            ]
          },
          "metadata": {
            "tags": []
          },
          "execution_count": 52
        }
      ]
    },
    {
      "cell_type": "code",
      "metadata": {
        "colab": {
          "base_uri": "https://localhost:8080/"
        },
        "id": "5Nw4ZwCflswq",
        "outputId": "0a550de6-c21a-4bbf-c654-41effbaf9db6"
      },
      "source": [
        "df['TAHUN']  #menampilkan satu kolom saja (outputnya series)"
      ],
      "execution_count": null,
      "outputs": [
        {
          "output_type": "execute_result",
          "data": {
            "text/plain": [
              "0      2013\n",
              "1      2013\n",
              "2      2013\n",
              "3      2013\n",
              "4      2013\n",
              "       ... \n",
              "262    2013\n",
              "263    2013\n",
              "264    2013\n",
              "265    2013\n",
              "266    2013\n",
              "Name: TAHUN, Length: 267, dtype: int64"
            ]
          },
          "metadata": {
            "tags": []
          },
          "execution_count": 62
        }
      ]
    },
    {
      "cell_type": "markdown",
      "metadata": {
        "id": "JilRvvr0mNMK"
      },
      "source": [
        "Output yang sama di atas dapat diperoleh dengan :"
      ]
    },
    {
      "cell_type": "code",
      "metadata": {
        "colab": {
          "base_uri": "https://localhost:8080/"
        },
        "id": "DU2VgILPl7Nt",
        "outputId": "2ecbb4ab-1217-4ba6-bca2-3f8a35f728d5"
      },
      "source": [
        "df.TAHUN    #Tidak dapat dilakukan pada nama kolom yang mempunyai spasi"
      ],
      "execution_count": null,
      "outputs": [
        {
          "output_type": "execute_result",
          "data": {
            "text/plain": [
              "0      2013\n",
              "1      2013\n",
              "2      2013\n",
              "3      2013\n",
              "4      2013\n",
              "       ... \n",
              "262    2013\n",
              "263    2013\n",
              "264    2013\n",
              "265    2013\n",
              "266    2013\n",
              "Name: TAHUN, Length: 267, dtype: int64"
            ]
          },
          "metadata": {
            "tags": []
          },
          "execution_count": 60
        }
      ]
    },
    {
      "cell_type": "code",
      "metadata": {
        "colab": {
          "base_uri": "https://localhost:8080/",
          "height": 424
        },
        "id": "aknbp3gImUFs",
        "outputId": "1a10a14d-e081-4f67-af74-daddac3a5363"
      },
      "source": [
        "df[['TAHUN']]     #outputnya dataframe"
      ],
      "execution_count": null,
      "outputs": [
        {
          "output_type": "execute_result",
          "data": {
            "text/html": [
              "<div>\n",
              "<style scoped>\n",
              "    .dataframe tbody tr th:only-of-type {\n",
              "        vertical-align: middle;\n",
              "    }\n",
              "\n",
              "    .dataframe tbody tr th {\n",
              "        vertical-align: top;\n",
              "    }\n",
              "\n",
              "    .dataframe thead th {\n",
              "        text-align: right;\n",
              "    }\n",
              "</style>\n",
              "<table border=\"1\" class=\"dataframe\">\n",
              "  <thead>\n",
              "    <tr style=\"text-align: right;\">\n",
              "      <th></th>\n",
              "      <th>TAHUN</th>\n",
              "    </tr>\n",
              "  </thead>\n",
              "  <tbody>\n",
              "    <tr>\n",
              "      <th>0</th>\n",
              "      <td>2013</td>\n",
              "    </tr>\n",
              "    <tr>\n",
              "      <th>1</th>\n",
              "      <td>2013</td>\n",
              "    </tr>\n",
              "    <tr>\n",
              "      <th>2</th>\n",
              "      <td>2013</td>\n",
              "    </tr>\n",
              "    <tr>\n",
              "      <th>3</th>\n",
              "      <td>2013</td>\n",
              "    </tr>\n",
              "    <tr>\n",
              "      <th>4</th>\n",
              "      <td>2013</td>\n",
              "    </tr>\n",
              "    <tr>\n",
              "      <th>...</th>\n",
              "      <td>...</td>\n",
              "    </tr>\n",
              "    <tr>\n",
              "      <th>262</th>\n",
              "      <td>2013</td>\n",
              "    </tr>\n",
              "    <tr>\n",
              "      <th>263</th>\n",
              "      <td>2013</td>\n",
              "    </tr>\n",
              "    <tr>\n",
              "      <th>264</th>\n",
              "      <td>2013</td>\n",
              "    </tr>\n",
              "    <tr>\n",
              "      <th>265</th>\n",
              "      <td>2013</td>\n",
              "    </tr>\n",
              "    <tr>\n",
              "      <th>266</th>\n",
              "      <td>2013</td>\n",
              "    </tr>\n",
              "  </tbody>\n",
              "</table>\n",
              "<p>267 rows × 1 columns</p>\n",
              "</div>"
            ],
            "text/plain": [
              "     TAHUN\n",
              "0     2013\n",
              "1     2013\n",
              "2     2013\n",
              "3     2013\n",
              "4     2013\n",
              "..     ...\n",
              "262   2013\n",
              "263   2013\n",
              "264   2013\n",
              "265   2013\n",
              "266   2013\n",
              "\n",
              "[267 rows x 1 columns]"
            ]
          },
          "metadata": {
            "tags": []
          },
          "execution_count": 59
        }
      ]
    },
    {
      "cell_type": "markdown",
      "metadata": {
        "id": "eFOouCjnm2j2"
      },
      "source": [
        "Bisa juga membuat sebuah kolom baru yang diperoleh dari gabungan dua kolom lain. Misalkan disini ingin digabung jumlah laki2 dan perempuan yang berusia 50-54"
      ]
    },
    {
      "cell_type": "code",
      "metadata": {
        "colab": {
          "base_uri": "https://localhost:8080/",
          "height": 143
        },
        "id": "quJRncl5mzcR",
        "outputId": "4581b661-8eeb-44e7-e7bf-ceca66c0b972"
      },
      "source": [
        "df['gabungan_50-54'] = df['50-54 Laki-Laki'] + df['50-54 Perempuan']\n",
        "df[['gabungan_50-54','50-54 Laki-Laki','50-54 Perempuan']] .head(3)   #lihat tiga kolom ini aja"
      ],
      "execution_count": null,
      "outputs": [
        {
          "output_type": "execute_result",
          "data": {
            "text/html": [
              "<div>\n",
              "<style scoped>\n",
              "    .dataframe tbody tr th:only-of-type {\n",
              "        vertical-align: middle;\n",
              "    }\n",
              "\n",
              "    .dataframe tbody tr th {\n",
              "        vertical-align: top;\n",
              "    }\n",
              "\n",
              "    .dataframe thead th {\n",
              "        text-align: right;\n",
              "    }\n",
              "</style>\n",
              "<table border=\"1\" class=\"dataframe\">\n",
              "  <thead>\n",
              "    <tr style=\"text-align: right;\">\n",
              "      <th></th>\n",
              "      <th>gabungan_50-54</th>\n",
              "      <th>50-54 Laki-Laki</th>\n",
              "      <th>50-54 Perempuan</th>\n",
              "    </tr>\n",
              "  </thead>\n",
              "  <tbody>\n",
              "    <tr>\n",
              "      <th>0</th>\n",
              "      <td>263</td>\n",
              "      <td>137</td>\n",
              "      <td>126</td>\n",
              "    </tr>\n",
              "    <tr>\n",
              "      <th>1</th>\n",
              "      <td>63</td>\n",
              "      <td>34</td>\n",
              "      <td>29</td>\n",
              "    </tr>\n",
              "    <tr>\n",
              "      <th>2</th>\n",
              "      <td>311</td>\n",
              "      <td>150</td>\n",
              "      <td>161</td>\n",
              "    </tr>\n",
              "  </tbody>\n",
              "</table>\n",
              "</div>"
            ],
            "text/plain": [
              "   gabungan_50-54  50-54 Laki-Laki  50-54 Perempuan\n",
              "0             263              137              126\n",
              "1              63               34               29\n",
              "2             311              150              161"
            ]
          },
          "metadata": {
            "tags": []
          },
          "execution_count": 64
        }
      ]
    },
    {
      "cell_type": "markdown",
      "metadata": {
        "id": "PUSm6xb7ndfS"
      },
      "source": [
        "### 3.4. Indexers: loc, iloc for `DataFrame`"
      ]
    },
    {
      "cell_type": "markdown",
      "metadata": {
        "id": "OAJVltZBnieW"
      },
      "source": [
        "Sama seperti pada series, **loc** digunakan untuk slicing menggunakan explicit index(nama indexnya langsung) dan **iloc** menggunakan implicit index (angka/urutan)"
      ]
    },
    {
      "cell_type": "markdown",
      "metadata": {
        "id": "9bbZNKFHzLni"
      },
      "source": [
        "yang penting pahami bahwa functionnya itu\n",
        "\n",
        "df.iloc[baris, kolom]"
      ]
    },
    {
      "cell_type": "markdown",
      "metadata": {
        "id": "s-omKzZRnyn2"
      },
      "source": [
        "#### 3.4.1. `loc` attribute"
      ]
    },
    {
      "cell_type": "markdown",
      "metadata": {
        "id": "WmyFfP9Soc2a"
      },
      "source": [
        "Definisikan sebuah dataframe baru menggunakan dataset penduduk sebelumnya dengan set 'NAMA KELUARAHAN' sebagai index  (untuk contoh saja)"
      ]
    },
    {
      "cell_type": "code",
      "metadata": {
        "id": "u-YnOWbsmajn"
      },
      "source": [
        "df1 = df.set_index('NAMA KELURAHAN')"
      ],
      "execution_count": null,
      "outputs": []
    },
    {
      "cell_type": "code",
      "metadata": {
        "colab": {
          "base_uri": "https://localhost:8080/",
          "height": 351
        },
        "id": "HaicOAU4oCWV",
        "outputId": "800a12ea-eb75-4c3b-9548-a6fec6aa1541"
      },
      "source": [
        "df1.head(3)"
      ],
      "execution_count": null,
      "outputs": [
        {
          "output_type": "execute_result",
          "data": {
            "text/html": [
              "<div>\n",
              "<style scoped>\n",
              "    .dataframe tbody tr th:only-of-type {\n",
              "        vertical-align: middle;\n",
              "    }\n",
              "\n",
              "    .dataframe tbody tr th {\n",
              "        vertical-align: top;\n",
              "    }\n",
              "\n",
              "    .dataframe thead th {\n",
              "        text-align: right;\n",
              "    }\n",
              "</style>\n",
              "<table border=\"1\" class=\"dataframe\">\n",
              "  <thead>\n",
              "    <tr style=\"text-align: right;\">\n",
              "      <th></th>\n",
              "      <th>TAHUN</th>\n",
              "      <th>NAMA PROVINSI</th>\n",
              "      <th>NAMA KABUPATEN/KOTA</th>\n",
              "      <th>NAMA KECAMATAN</th>\n",
              "      <th>LUAS WILAYAH (KM2)</th>\n",
              "      <th>KEPADATAN (JIWA/KM2)</th>\n",
              "      <th>35-39 Laki-Laki</th>\n",
              "      <th>35-39 Perempuan</th>\n",
              "      <th>40-44 Laki-Laki</th>\n",
              "      <th>40-44 Perempuan</th>\n",
              "      <th>45-49 Laki-Laki</th>\n",
              "      <th>45-49 Perempuan</th>\n",
              "      <th>50-54 Laki-Laki</th>\n",
              "      <th>50-54 Perempuan</th>\n",
              "      <th>55-59 Laki-Laki</th>\n",
              "      <th>55-59 Perempuan</th>\n",
              "      <th>60-64 Laki-Laki</th>\n",
              "      <th>60-64 Perempuan</th>\n",
              "      <th>65-69 Laki-Laki</th>\n",
              "      <th>65-69 Perempuan</th>\n",
              "      <th>70-74 Laki-Laki</th>\n",
              "      <th>70-74 Perempuan</th>\n",
              "      <th>&gt;75 Laki-Laki</th>\n",
              "      <th>&gt;75  Perempuan</th>\n",
              "      <th>gabungan_50-54</th>\n",
              "    </tr>\n",
              "    <tr>\n",
              "      <th>NAMA KELURAHAN</th>\n",
              "      <th></th>\n",
              "      <th></th>\n",
              "      <th></th>\n",
              "      <th></th>\n",
              "      <th></th>\n",
              "      <th></th>\n",
              "      <th></th>\n",
              "      <th></th>\n",
              "      <th></th>\n",
              "      <th></th>\n",
              "      <th></th>\n",
              "      <th></th>\n",
              "      <th></th>\n",
              "      <th></th>\n",
              "      <th></th>\n",
              "      <th></th>\n",
              "      <th></th>\n",
              "      <th></th>\n",
              "      <th></th>\n",
              "      <th></th>\n",
              "      <th></th>\n",
              "      <th></th>\n",
              "      <th></th>\n",
              "      <th></th>\n",
              "      <th></th>\n",
              "    </tr>\n",
              "  </thead>\n",
              "  <tbody>\n",
              "    <tr>\n",
              "      <th>P. PANGGANG</th>\n",
              "      <td>2013</td>\n",
              "      <td>PROVINSI DKI JAKARTA</td>\n",
              "      <td>KAB.ADM.KEP.SERIBU</td>\n",
              "      <td>KEP. SERIBU UTR</td>\n",
              "      <td>0.91</td>\n",
              "      <td>6779</td>\n",
              "      <td>231</td>\n",
              "      <td>235</td>\n",
              "      <td>233</td>\n",
              "      <td>210</td>\n",
              "      <td>171</td>\n",
              "      <td>158</td>\n",
              "      <td>137</td>\n",
              "      <td>126</td>\n",
              "      <td>98</td>\n",
              "      <td>106</td>\n",
              "      <td>72</td>\n",
              "      <td>65</td>\n",
              "      <td>36</td>\n",
              "      <td>33</td>\n",
              "      <td>33</td>\n",
              "      <td>20</td>\n",
              "      <td>13</td>\n",
              "      <td>27</td>\n",
              "      <td>263</td>\n",
              "    </tr>\n",
              "    <tr>\n",
              "      <th>P. KELAPA</th>\n",
              "      <td>2013</td>\n",
              "      <td>PROVINSI DKI JAKARTA</td>\n",
              "      <td>KAB.ADM.KEP.SERIBU</td>\n",
              "      <td>KEP. SERIBU UTR</td>\n",
              "      <td>3.76</td>\n",
              "      <td>1705</td>\n",
              "      <td>84</td>\n",
              "      <td>88</td>\n",
              "      <td>99</td>\n",
              "      <td>88</td>\n",
              "      <td>72</td>\n",
              "      <td>63</td>\n",
              "      <td>34</td>\n",
              "      <td>29</td>\n",
              "      <td>30</td>\n",
              "      <td>39</td>\n",
              "      <td>29</td>\n",
              "      <td>24</td>\n",
              "      <td>12</td>\n",
              "      <td>21</td>\n",
              "      <td>13</td>\n",
              "      <td>5</td>\n",
              "      <td>5</td>\n",
              "      <td>8</td>\n",
              "      <td>63</td>\n",
              "    </tr>\n",
              "    <tr>\n",
              "      <th>P. HARAPAN</th>\n",
              "      <td>2013</td>\n",
              "      <td>PROVINSI DKI JAKARTA</td>\n",
              "      <td>KAB.ADM.KEP.SERIBU</td>\n",
              "      <td>KEP. SERIBU UTR</td>\n",
              "      <td>3.59</td>\n",
              "      <td>628</td>\n",
              "      <td>255</td>\n",
              "      <td>238</td>\n",
              "      <td>232</td>\n",
              "      <td>234</td>\n",
              "      <td>212</td>\n",
              "      <td>193</td>\n",
              "      <td>150</td>\n",
              "      <td>161</td>\n",
              "      <td>139</td>\n",
              "      <td>101</td>\n",
              "      <td>73</td>\n",
              "      <td>56</td>\n",
              "      <td>18</td>\n",
              "      <td>35</td>\n",
              "      <td>24</td>\n",
              "      <td>25</td>\n",
              "      <td>18</td>\n",
              "      <td>26</td>\n",
              "      <td>311</td>\n",
              "    </tr>\n",
              "  </tbody>\n",
              "</table>\n",
              "</div>"
            ],
            "text/plain": [
              "                TAHUN         NAMA PROVINSI  ... >75  Perempuan gabungan_50-54\n",
              "NAMA KELURAHAN                               ...                              \n",
              "P. PANGGANG      2013  PROVINSI DKI JAKARTA  ...             27            263\n",
              "P. KELAPA        2013  PROVINSI DKI JAKARTA  ...              8             63\n",
              "P. HARAPAN       2013  PROVINSI DKI JAKARTA  ...             26            311\n",
              "\n",
              "[3 rows x 25 columns]"
            ]
          },
          "metadata": {
            "tags": []
          },
          "execution_count": 69
        }
      ]
    },
    {
      "cell_type": "code",
      "metadata": {
        "colab": {
          "base_uri": "https://localhost:8080/",
          "height": 238
        },
        "id": "o6IQVCyio93d",
        "outputId": "bbddac5d-097d-431f-f0a8-a0c52e1a5cbc"
      },
      "source": [
        "df1.loc[  :'P. TIDUNG', :'NAMA KECAMATAN']   #menampilkan baris hingga 'P. TIDUNG', kolom hingga 'NAMA KECAMATAN'"
      ],
      "execution_count": null,
      "outputs": [
        {
          "output_type": "execute_result",
          "data": {
            "text/html": [
              "<div>\n",
              "<style scoped>\n",
              "    .dataframe tbody tr th:only-of-type {\n",
              "        vertical-align: middle;\n",
              "    }\n",
              "\n",
              "    .dataframe tbody tr th {\n",
              "        vertical-align: top;\n",
              "    }\n",
              "\n",
              "    .dataframe thead th {\n",
              "        text-align: right;\n",
              "    }\n",
              "</style>\n",
              "<table border=\"1\" class=\"dataframe\">\n",
              "  <thead>\n",
              "    <tr style=\"text-align: right;\">\n",
              "      <th></th>\n",
              "      <th>TAHUN</th>\n",
              "      <th>NAMA PROVINSI</th>\n",
              "      <th>NAMA KABUPATEN/KOTA</th>\n",
              "      <th>NAMA KECAMATAN</th>\n",
              "    </tr>\n",
              "    <tr>\n",
              "      <th>NAMA KELURAHAN</th>\n",
              "      <th></th>\n",
              "      <th></th>\n",
              "      <th></th>\n",
              "      <th></th>\n",
              "    </tr>\n",
              "  </thead>\n",
              "  <tbody>\n",
              "    <tr>\n",
              "      <th>P. PANGGANG</th>\n",
              "      <td>2013</td>\n",
              "      <td>PROVINSI DKI JAKARTA</td>\n",
              "      <td>KAB.ADM.KEP.SERIBU</td>\n",
              "      <td>KEP. SERIBU UTR</td>\n",
              "    </tr>\n",
              "    <tr>\n",
              "      <th>P. KELAPA</th>\n",
              "      <td>2013</td>\n",
              "      <td>PROVINSI DKI JAKARTA</td>\n",
              "      <td>KAB.ADM.KEP.SERIBU</td>\n",
              "      <td>KEP. SERIBU UTR</td>\n",
              "    </tr>\n",
              "    <tr>\n",
              "      <th>P. HARAPAN</th>\n",
              "      <td>2013</td>\n",
              "      <td>PROVINSI DKI JAKARTA</td>\n",
              "      <td>KAB.ADM.KEP.SERIBU</td>\n",
              "      <td>KEP. SERIBU UTR</td>\n",
              "    </tr>\n",
              "    <tr>\n",
              "      <th>P. UNTUNG JAWA</th>\n",
              "      <td>2013</td>\n",
              "      <td>PROVINSI DKI JAKARTA</td>\n",
              "      <td>KAB.ADM.KEP.SERIBU</td>\n",
              "      <td>KEP. SERIBU SLT</td>\n",
              "    </tr>\n",
              "    <tr>\n",
              "      <th>P. TIDUNG</th>\n",
              "      <td>2013</td>\n",
              "      <td>PROVINSI DKI JAKARTA</td>\n",
              "      <td>KAB.ADM.KEP.SERIBU</td>\n",
              "      <td>KEP. SERIBU SLT</td>\n",
              "    </tr>\n",
              "  </tbody>\n",
              "</table>\n",
              "</div>"
            ],
            "text/plain": [
              "                TAHUN  ...   NAMA KECAMATAN\n",
              "NAMA KELURAHAN         ...                 \n",
              "P. PANGGANG      2013  ...  KEP. SERIBU UTR\n",
              "P. KELAPA        2013  ...  KEP. SERIBU UTR\n",
              "P. HARAPAN       2013  ...  KEP. SERIBU UTR\n",
              "P. UNTUNG JAWA   2013  ...  KEP. SERIBU SLT\n",
              "P. TIDUNG        2013  ...  KEP. SERIBU SLT\n",
              "\n",
              "[5 rows x 4 columns]"
            ]
          },
          "metadata": {
            "tags": []
          },
          "execution_count": 73
        }
      ]
    },
    {
      "cell_type": "code",
      "metadata": {
        "colab": {
          "base_uri": "https://localhost:8080/",
          "height": 217
        },
        "id": "jBe4rEBwpRvk",
        "outputId": "d05c3b5a-f27d-4516-e8d9-fbbff61c96e4"
      },
      "source": [
        "df1.loc[['P. KELAPA']]   #menampilkan data dari index 'P. KELAPA'"
      ],
      "execution_count": null,
      "outputs": [
        {
          "output_type": "execute_result",
          "data": {
            "text/html": [
              "<div>\n",
              "<style scoped>\n",
              "    .dataframe tbody tr th:only-of-type {\n",
              "        vertical-align: middle;\n",
              "    }\n",
              "\n",
              "    .dataframe tbody tr th {\n",
              "        vertical-align: top;\n",
              "    }\n",
              "\n",
              "    .dataframe thead th {\n",
              "        text-align: right;\n",
              "    }\n",
              "</style>\n",
              "<table border=\"1\" class=\"dataframe\">\n",
              "  <thead>\n",
              "    <tr style=\"text-align: right;\">\n",
              "      <th></th>\n",
              "      <th>TAHUN</th>\n",
              "      <th>NAMA PROVINSI</th>\n",
              "      <th>NAMA KABUPATEN/KOTA</th>\n",
              "      <th>NAMA KECAMATAN</th>\n",
              "      <th>LUAS WILAYAH (KM2)</th>\n",
              "      <th>KEPADATAN (JIWA/KM2)</th>\n",
              "      <th>35-39 Laki-Laki</th>\n",
              "      <th>35-39 Perempuan</th>\n",
              "      <th>40-44 Laki-Laki</th>\n",
              "      <th>40-44 Perempuan</th>\n",
              "      <th>45-49 Laki-Laki</th>\n",
              "      <th>45-49 Perempuan</th>\n",
              "      <th>50-54 Laki-Laki</th>\n",
              "      <th>50-54 Perempuan</th>\n",
              "      <th>55-59 Laki-Laki</th>\n",
              "      <th>55-59 Perempuan</th>\n",
              "      <th>60-64 Laki-Laki</th>\n",
              "      <th>60-64 Perempuan</th>\n",
              "      <th>65-69 Laki-Laki</th>\n",
              "      <th>65-69 Perempuan</th>\n",
              "      <th>70-74 Laki-Laki</th>\n",
              "      <th>70-74 Perempuan</th>\n",
              "      <th>&gt;75 Laki-Laki</th>\n",
              "      <th>&gt;75  Perempuan</th>\n",
              "    </tr>\n",
              "    <tr>\n",
              "      <th>NAMA KELURAHAN</th>\n",
              "      <th></th>\n",
              "      <th></th>\n",
              "      <th></th>\n",
              "      <th></th>\n",
              "      <th></th>\n",
              "      <th></th>\n",
              "      <th></th>\n",
              "      <th></th>\n",
              "      <th></th>\n",
              "      <th></th>\n",
              "      <th></th>\n",
              "      <th></th>\n",
              "      <th></th>\n",
              "      <th></th>\n",
              "      <th></th>\n",
              "      <th></th>\n",
              "      <th></th>\n",
              "      <th></th>\n",
              "      <th></th>\n",
              "      <th></th>\n",
              "      <th></th>\n",
              "      <th></th>\n",
              "      <th></th>\n",
              "      <th></th>\n",
              "    </tr>\n",
              "  </thead>\n",
              "  <tbody>\n",
              "    <tr>\n",
              "      <th>P. KELAPA</th>\n",
              "      <td>2013</td>\n",
              "      <td>PROVINSI DKI JAKARTA</td>\n",
              "      <td>KAB.ADM.KEP.SERIBU</td>\n",
              "      <td>KEP. SERIBU UTR</td>\n",
              "      <td>3,76</td>\n",
              "      <td>1705</td>\n",
              "      <td>84</td>\n",
              "      <td>88</td>\n",
              "      <td>99</td>\n",
              "      <td>88</td>\n",
              "      <td>72</td>\n",
              "      <td>63</td>\n",
              "      <td>34</td>\n",
              "      <td>29</td>\n",
              "      <td>30</td>\n",
              "      <td>39</td>\n",
              "      <td>29</td>\n",
              "      <td>24</td>\n",
              "      <td>12</td>\n",
              "      <td>21</td>\n",
              "      <td>13</td>\n",
              "      <td>5</td>\n",
              "      <td>5</td>\n",
              "      <td>8</td>\n",
              "    </tr>\n",
              "  </tbody>\n",
              "</table>\n",
              "</div>"
            ],
            "text/plain": [
              "                TAHUN         NAMA PROVINSI  ... >75 Laki-Laki >75  Perempuan\n",
              "NAMA KELURAHAN                               ...                             \n",
              "P. KELAPA        2013  PROVINSI DKI JAKARTA  ...             5              8\n",
              "\n",
              "[1 rows x 24 columns]"
            ]
          },
          "metadata": {
            "tags": []
          },
          "execution_count": 10
        }
      ]
    },
    {
      "cell_type": "code",
      "metadata": {
        "colab": {
          "base_uri": "https://localhost:8080/",
          "height": 217
        },
        "id": "cHIvHWwO_Yz6",
        "outputId": "c23e71a5-dd46-49f5-e20d-488b80f54595"
      },
      "source": [
        "df1.loc[['P. KELAPA']]"
      ],
      "execution_count": null,
      "outputs": [
        {
          "output_type": "execute_result",
          "data": {
            "text/html": [
              "<div>\n",
              "<style scoped>\n",
              "    .dataframe tbody tr th:only-of-type {\n",
              "        vertical-align: middle;\n",
              "    }\n",
              "\n",
              "    .dataframe tbody tr th {\n",
              "        vertical-align: top;\n",
              "    }\n",
              "\n",
              "    .dataframe thead th {\n",
              "        text-align: right;\n",
              "    }\n",
              "</style>\n",
              "<table border=\"1\" class=\"dataframe\">\n",
              "  <thead>\n",
              "    <tr style=\"text-align: right;\">\n",
              "      <th></th>\n",
              "      <th>TAHUN</th>\n",
              "      <th>NAMA PROVINSI</th>\n",
              "      <th>NAMA KABUPATEN/KOTA</th>\n",
              "      <th>NAMA KECAMATAN</th>\n",
              "      <th>LUAS WILAYAH (KM2)</th>\n",
              "      <th>KEPADATAN (JIWA/KM2)</th>\n",
              "      <th>35-39 Laki-Laki</th>\n",
              "      <th>35-39 Perempuan</th>\n",
              "      <th>40-44 Laki-Laki</th>\n",
              "      <th>40-44 Perempuan</th>\n",
              "      <th>45-49 Laki-Laki</th>\n",
              "      <th>45-49 Perempuan</th>\n",
              "      <th>50-54 Laki-Laki</th>\n",
              "      <th>50-54 Perempuan</th>\n",
              "      <th>55-59 Laki-Laki</th>\n",
              "      <th>55-59 Perempuan</th>\n",
              "      <th>60-64 Laki-Laki</th>\n",
              "      <th>60-64 Perempuan</th>\n",
              "      <th>65-69 Laki-Laki</th>\n",
              "      <th>65-69 Perempuan</th>\n",
              "      <th>70-74 Laki-Laki</th>\n",
              "      <th>70-74 Perempuan</th>\n",
              "      <th>&gt;75 Laki-Laki</th>\n",
              "      <th>&gt;75  Perempuan</th>\n",
              "    </tr>\n",
              "    <tr>\n",
              "      <th>NAMA KELURAHAN</th>\n",
              "      <th></th>\n",
              "      <th></th>\n",
              "      <th></th>\n",
              "      <th></th>\n",
              "      <th></th>\n",
              "      <th></th>\n",
              "      <th></th>\n",
              "      <th></th>\n",
              "      <th></th>\n",
              "      <th></th>\n",
              "      <th></th>\n",
              "      <th></th>\n",
              "      <th></th>\n",
              "      <th></th>\n",
              "      <th></th>\n",
              "      <th></th>\n",
              "      <th></th>\n",
              "      <th></th>\n",
              "      <th></th>\n",
              "      <th></th>\n",
              "      <th></th>\n",
              "      <th></th>\n",
              "      <th></th>\n",
              "      <th></th>\n",
              "    </tr>\n",
              "  </thead>\n",
              "  <tbody>\n",
              "    <tr>\n",
              "      <th>P. KELAPA</th>\n",
              "      <td>2013</td>\n",
              "      <td>PROVINSI DKI JAKARTA</td>\n",
              "      <td>KAB.ADM.KEP.SERIBU</td>\n",
              "      <td>KEP. SERIBU UTR</td>\n",
              "      <td>3,76</td>\n",
              "      <td>1705</td>\n",
              "      <td>84</td>\n",
              "      <td>88</td>\n",
              "      <td>99</td>\n",
              "      <td>88</td>\n",
              "      <td>72</td>\n",
              "      <td>63</td>\n",
              "      <td>34</td>\n",
              "      <td>29</td>\n",
              "      <td>30</td>\n",
              "      <td>39</td>\n",
              "      <td>29</td>\n",
              "      <td>24</td>\n",
              "      <td>12</td>\n",
              "      <td>21</td>\n",
              "      <td>13</td>\n",
              "      <td>5</td>\n",
              "      <td>5</td>\n",
              "      <td>8</td>\n",
              "    </tr>\n",
              "  </tbody>\n",
              "</table>\n",
              "</div>"
            ],
            "text/plain": [
              "                TAHUN         NAMA PROVINSI  ... >75 Laki-Laki >75  Perempuan\n",
              "NAMA KELURAHAN                               ...                             \n",
              "P. KELAPA        2013  PROVINSI DKI JAKARTA  ...             5              8\n",
              "\n",
              "[1 rows x 24 columns]"
            ]
          },
          "metadata": {
            "tags": []
          },
          "execution_count": 17
        }
      ]
    },
    {
      "cell_type": "markdown",
      "metadata": {
        "id": "gj_ARxrlprpM"
      },
      "source": [
        "#### 3.4.2. `iloc` attribute"
      ]
    },
    {
      "cell_type": "code",
      "metadata": {
        "colab": {
          "base_uri": "https://localhost:8080/",
          "height": 238
        },
        "id": "vkzHvR3UpsbT",
        "outputId": "5412d62c-9d45-43ec-d51e-d0892c5084cd"
      },
      "source": [
        "df1.iloc[:5, :4]"
      ],
      "execution_count": null,
      "outputs": [
        {
          "output_type": "execute_result",
          "data": {
            "text/html": [
              "<div>\n",
              "<style scoped>\n",
              "    .dataframe tbody tr th:only-of-type {\n",
              "        vertical-align: middle;\n",
              "    }\n",
              "\n",
              "    .dataframe tbody tr th {\n",
              "        vertical-align: top;\n",
              "    }\n",
              "\n",
              "    .dataframe thead th {\n",
              "        text-align: right;\n",
              "    }\n",
              "</style>\n",
              "<table border=\"1\" class=\"dataframe\">\n",
              "  <thead>\n",
              "    <tr style=\"text-align: right;\">\n",
              "      <th></th>\n",
              "      <th>TAHUN</th>\n",
              "      <th>NAMA PROVINSI</th>\n",
              "      <th>NAMA KABUPATEN/KOTA</th>\n",
              "      <th>NAMA KECAMATAN</th>\n",
              "    </tr>\n",
              "    <tr>\n",
              "      <th>NAMA KELURAHAN</th>\n",
              "      <th></th>\n",
              "      <th></th>\n",
              "      <th></th>\n",
              "      <th></th>\n",
              "    </tr>\n",
              "  </thead>\n",
              "  <tbody>\n",
              "    <tr>\n",
              "      <th>P. PANGGANG</th>\n",
              "      <td>2013</td>\n",
              "      <td>PROVINSI DKI JAKARTA</td>\n",
              "      <td>KAB.ADM.KEP.SERIBU</td>\n",
              "      <td>KEP. SERIBU UTR</td>\n",
              "    </tr>\n",
              "    <tr>\n",
              "      <th>P. KELAPA</th>\n",
              "      <td>2013</td>\n",
              "      <td>PROVINSI DKI JAKARTA</td>\n",
              "      <td>KAB.ADM.KEP.SERIBU</td>\n",
              "      <td>KEP. SERIBU UTR</td>\n",
              "    </tr>\n",
              "    <tr>\n",
              "      <th>P. HARAPAN</th>\n",
              "      <td>2013</td>\n",
              "      <td>PROVINSI DKI JAKARTA</td>\n",
              "      <td>KAB.ADM.KEP.SERIBU</td>\n",
              "      <td>KEP. SERIBU UTR</td>\n",
              "    </tr>\n",
              "    <tr>\n",
              "      <th>P. UNTUNG JAWA</th>\n",
              "      <td>2013</td>\n",
              "      <td>PROVINSI DKI JAKARTA</td>\n",
              "      <td>KAB.ADM.KEP.SERIBU</td>\n",
              "      <td>KEP. SERIBU SLT</td>\n",
              "    </tr>\n",
              "    <tr>\n",
              "      <th>P. TIDUNG</th>\n",
              "      <td>2013</td>\n",
              "      <td>PROVINSI DKI JAKARTA</td>\n",
              "      <td>KAB.ADM.KEP.SERIBU</td>\n",
              "      <td>KEP. SERIBU SLT</td>\n",
              "    </tr>\n",
              "  </tbody>\n",
              "</table>\n",
              "</div>"
            ],
            "text/plain": [
              "                TAHUN  ...   NAMA KECAMATAN\n",
              "NAMA KELURAHAN         ...                 \n",
              "P. PANGGANG      2013  ...  KEP. SERIBU UTR\n",
              "P. KELAPA        2013  ...  KEP. SERIBU UTR\n",
              "P. HARAPAN       2013  ...  KEP. SERIBU UTR\n",
              "P. UNTUNG JAWA   2013  ...  KEP. SERIBU SLT\n",
              "P. TIDUNG        2013  ...  KEP. SERIBU SLT\n",
              "\n",
              "[5 rows x 4 columns]"
            ]
          },
          "metadata": {
            "tags": []
          },
          "execution_count": 77
        }
      ]
    },
    {
      "cell_type": "code",
      "metadata": {
        "colab": {
          "base_uri": "https://localhost:8080/"
        },
        "id": "1CEgT16Vq-R7",
        "outputId": "f056cb0e-bc8b-4e5a-b573-bb388d1d8e21"
      },
      "source": [
        "df['LUAS WILAYAH (KM2)']>1"
      ],
      "execution_count": null,
      "outputs": [
        {
          "output_type": "execute_result",
          "data": {
            "text/plain": [
              "0      False\n",
              "1       True\n",
              "2       True\n",
              "3      False\n",
              "4       True\n",
              "       ...  \n",
              "262     True\n",
              "263     True\n",
              "264     True\n",
              "265     True\n",
              "266     True\n",
              "Name: LUAS WILAYAH (KM2), Length: 267, dtype: bool"
            ]
          },
          "metadata": {
            "tags": []
          },
          "execution_count": 83
        }
      ]
    },
    {
      "cell_type": "code",
      "metadata": {
        "colab": {
          "base_uri": "https://localhost:8080/",
          "height": 219
        },
        "id": "V2TZci_6qCrt",
        "outputId": "160210b1-3725-4f85-bde8-c1786f6fd4d0"
      },
      "source": [
        "df1.iloc[[222]]"
      ],
      "execution_count": null,
      "outputs": [
        {
          "output_type": "execute_result",
          "data": {
            "text/html": [
              "<div>\n",
              "<style scoped>\n",
              "    .dataframe tbody tr th:only-of-type {\n",
              "        vertical-align: middle;\n",
              "    }\n",
              "\n",
              "    .dataframe tbody tr th {\n",
              "        vertical-align: top;\n",
              "    }\n",
              "\n",
              "    .dataframe thead th {\n",
              "        text-align: right;\n",
              "    }\n",
              "</style>\n",
              "<table border=\"1\" class=\"dataframe\">\n",
              "  <thead>\n",
              "    <tr style=\"text-align: right;\">\n",
              "      <th></th>\n",
              "      <th>TAHUN</th>\n",
              "      <th>NAMA PROVINSI</th>\n",
              "      <th>NAMA KABUPATEN/KOTA</th>\n",
              "      <th>NAMA KECAMATAN</th>\n",
              "      <th>LUAS WILAYAH (KM2)</th>\n",
              "      <th>KEPADATAN (JIWA/KM2)</th>\n",
              "      <th>35-39 Laki-Laki</th>\n",
              "      <th>35-39 Perempuan</th>\n",
              "      <th>40-44 Laki-Laki</th>\n",
              "      <th>40-44 Perempuan</th>\n",
              "      <th>45-49 Laki-Laki</th>\n",
              "      <th>45-49 Perempuan</th>\n",
              "      <th>50-54 Laki-Laki</th>\n",
              "      <th>50-54 Perempuan</th>\n",
              "      <th>55-59 Laki-Laki</th>\n",
              "      <th>55-59 Perempuan</th>\n",
              "      <th>60-64 Laki-Laki</th>\n",
              "      <th>60-64 Perempuan</th>\n",
              "      <th>65-69 Laki-Laki</th>\n",
              "      <th>65-69 Perempuan</th>\n",
              "      <th>70-74 Laki-Laki</th>\n",
              "      <th>70-74 Perempuan</th>\n",
              "      <th>&gt;75 Laki-Laki</th>\n",
              "      <th>&gt;75  Perempuan</th>\n",
              "      <th>gabungan_50-54</th>\n",
              "    </tr>\n",
              "    <tr>\n",
              "      <th>NAMA KELURAHAN</th>\n",
              "      <th></th>\n",
              "      <th></th>\n",
              "      <th></th>\n",
              "      <th></th>\n",
              "      <th></th>\n",
              "      <th></th>\n",
              "      <th></th>\n",
              "      <th></th>\n",
              "      <th></th>\n",
              "      <th></th>\n",
              "      <th></th>\n",
              "      <th></th>\n",
              "      <th></th>\n",
              "      <th></th>\n",
              "      <th></th>\n",
              "      <th></th>\n",
              "      <th></th>\n",
              "      <th></th>\n",
              "      <th></th>\n",
              "      <th></th>\n",
              "      <th></th>\n",
              "      <th></th>\n",
              "      <th></th>\n",
              "      <th></th>\n",
              "      <th></th>\n",
              "    </tr>\n",
              "  </thead>\n",
              "  <tbody>\n",
              "    <tr>\n",
              "      <th>CIPINANG BESAR UTARA</th>\n",
              "      <td>2013</td>\n",
              "      <td>PROVINSI DKI JAKARTA</td>\n",
              "      <td>JAKARTA TIMUR</td>\n",
              "      <td>JATINEGARA</td>\n",
              "      <td>1.15</td>\n",
              "      <td>48850</td>\n",
              "      <td>2704</td>\n",
              "      <td>2409</td>\n",
              "      <td>2344</td>\n",
              "      <td>2180</td>\n",
              "      <td>1856</td>\n",
              "      <td>1784</td>\n",
              "      <td>1480</td>\n",
              "      <td>1463</td>\n",
              "      <td>1170</td>\n",
              "      <td>1126</td>\n",
              "      <td>742</td>\n",
              "      <td>765</td>\n",
              "      <td>403</td>\n",
              "      <td>441</td>\n",
              "      <td>307</td>\n",
              "      <td>350</td>\n",
              "      <td>228</td>\n",
              "      <td>247</td>\n",
              "      <td>2943</td>\n",
              "    </tr>\n",
              "  </tbody>\n",
              "</table>\n",
              "</div>"
            ],
            "text/plain": [
              "                      TAHUN  ... gabungan_50-54\n",
              "NAMA KELURAHAN               ...               \n",
              "CIPINANG BESAR UTARA   2013  ...           2943\n",
              "\n",
              "[1 rows x 25 columns]"
            ]
          },
          "metadata": {
            "tags": []
          },
          "execution_count": 80
        }
      ]
    },
    {
      "cell_type": "markdown",
      "metadata": {
        "id": "IxIkrMYKqn-e"
      },
      "source": [
        "### 3.5. Subsetting a `Dataframe`"
      ]
    },
    {
      "cell_type": "markdown",
      "metadata": {
        "id": "aZvRfjAyzZ1w"
      },
      "source": [
        "condition = ... (disarankan conditionnya dimasukkin ke variabel gini biar ga bingung dalam penulisannya)\n",
        "\n",
        "df[condition]\n",
        "\n",
        "ingat bahwa di condition merupakan logical statement dimana harus bernilai TRUE atau FALSE (Boolean)"
      ]
    },
    {
      "cell_type": "markdown",
      "metadata": {
        "id": "oOUk7TQOqzlD"
      },
      "source": [
        "Memungkinkan kita untuk mengekstrak/filter bagian dari data yang diinginkan. Misal kita ingin menampilkan data yang luas wilayahnya memenuhi 1 (KM2)."
      ]
    },
    {
      "cell_type": "code",
      "metadata": {
        "colab": {
          "base_uri": "https://localhost:8080/"
        },
        "id": "1zLt82IFq3LI",
        "outputId": "f2693753-a87d-41b5-f7c5-63fb6ba5c9fe"
      },
      "source": [
        "df['LUAS WILAYAH (KM2)']>1"
      ],
      "execution_count": null,
      "outputs": [
        {
          "output_type": "execute_result",
          "data": {
            "text/plain": [
              "0      False\n",
              "1       True\n",
              "2       True\n",
              "3      False\n",
              "4       True\n",
              "       ...  \n",
              "262     True\n",
              "263     True\n",
              "264     True\n",
              "265     True\n",
              "266     True\n",
              "Name: LUAS WILAYAH (KM2), Length: 267, dtype: bool"
            ]
          },
          "metadata": {
            "tags": []
          },
          "execution_count": 84
        }
      ]
    },
    {
      "cell_type": "markdown",
      "metadata": {
        "id": "uCLuh2TvrXlw"
      },
      "source": [
        "Diperoleh sebuah series yang berisi boolean value. Jika kita slice data awal dengan boolean value ini, maka akan diperoleh data dengan luas wilayah >1 (yang akan ditampilkan adalah yang True saja)"
      ]
    },
    {
      "cell_type": "code",
      "metadata": {
        "colab": {
          "base_uri": "https://localhost:8080/",
          "height": 817
        },
        "id": "I51OUkYkrWxi",
        "outputId": "7b4defd5-bb32-4b05-d12f-93e01e7a1b32"
      },
      "source": [
        "df[df['LUAS WILAYAH (KM2)']>1].head()  #head akan menunjukkan 5 baris pertama, ga pakai head juga sabi"
      ],
      "execution_count": null,
      "outputs": [
        {
          "output_type": "execute_result",
          "data": {
            "text/html": [
              "<div>\n",
              "<style scoped>\n",
              "    .dataframe tbody tr th:only-of-type {\n",
              "        vertical-align: middle;\n",
              "    }\n",
              "\n",
              "    .dataframe tbody tr th {\n",
              "        vertical-align: top;\n",
              "    }\n",
              "\n",
              "    .dataframe thead th {\n",
              "        text-align: right;\n",
              "    }\n",
              "</style>\n",
              "<table border=\"1\" class=\"dataframe\">\n",
              "  <thead>\n",
              "    <tr style=\"text-align: right;\">\n",
              "      <th></th>\n",
              "      <th>TAHUN</th>\n",
              "      <th>NAMA PROVINSI</th>\n",
              "      <th>NAMA KABUPATEN/KOTA</th>\n",
              "      <th>NAMA KECAMATAN</th>\n",
              "      <th>NAMA KELURAHAN</th>\n",
              "      <th>LUAS WILAYAH (KM2)</th>\n",
              "      <th>KEPADATAN (JIWA/KM2)</th>\n",
              "      <th>35-39 Laki-Laki</th>\n",
              "      <th>35-39 Perempuan</th>\n",
              "      <th>40-44 Laki-Laki</th>\n",
              "      <th>40-44 Perempuan</th>\n",
              "      <th>45-49 Laki-Laki</th>\n",
              "      <th>45-49 Perempuan</th>\n",
              "      <th>50-54 Laki-Laki</th>\n",
              "      <th>50-54 Perempuan</th>\n",
              "      <th>55-59 Laki-Laki</th>\n",
              "      <th>55-59 Perempuan</th>\n",
              "      <th>60-64 Laki-Laki</th>\n",
              "      <th>60-64 Perempuan</th>\n",
              "      <th>65-69 Laki-Laki</th>\n",
              "      <th>65-69 Perempuan</th>\n",
              "      <th>70-74 Laki-Laki</th>\n",
              "      <th>70-74 Perempuan</th>\n",
              "      <th>&gt;75 Laki-Laki</th>\n",
              "      <th>&gt;75  Perempuan</th>\n",
              "    </tr>\n",
              "  </thead>\n",
              "  <tbody>\n",
              "    <tr>\n",
              "      <th>1</th>\n",
              "      <td>2013</td>\n",
              "      <td>PROVINSI DKI JAKARTA</td>\n",
              "      <td>KAB.ADM.KEP.SERIBU</td>\n",
              "      <td>KEP. SERIBU UTR</td>\n",
              "      <td>P. KELAPA</td>\n",
              "      <td>3.76</td>\n",
              "      <td>1705</td>\n",
              "      <td>84</td>\n",
              "      <td>88</td>\n",
              "      <td>99</td>\n",
              "      <td>88</td>\n",
              "      <td>72</td>\n",
              "      <td>63</td>\n",
              "      <td>34</td>\n",
              "      <td>29</td>\n",
              "      <td>30</td>\n",
              "      <td>39</td>\n",
              "      <td>29</td>\n",
              "      <td>24</td>\n",
              "      <td>12</td>\n",
              "      <td>21</td>\n",
              "      <td>13</td>\n",
              "      <td>5</td>\n",
              "      <td>5</td>\n",
              "      <td>8</td>\n",
              "    </tr>\n",
              "    <tr>\n",
              "      <th>2</th>\n",
              "      <td>2013</td>\n",
              "      <td>PROVINSI DKI JAKARTA</td>\n",
              "      <td>KAB.ADM.KEP.SERIBU</td>\n",
              "      <td>KEP. SERIBU UTR</td>\n",
              "      <td>P. HARAPAN</td>\n",
              "      <td>3.59</td>\n",
              "      <td>628</td>\n",
              "      <td>255</td>\n",
              "      <td>238</td>\n",
              "      <td>232</td>\n",
              "      <td>234</td>\n",
              "      <td>212</td>\n",
              "      <td>193</td>\n",
              "      <td>150</td>\n",
              "      <td>161</td>\n",
              "      <td>139</td>\n",
              "      <td>101</td>\n",
              "      <td>73</td>\n",
              "      <td>56</td>\n",
              "      <td>18</td>\n",
              "      <td>35</td>\n",
              "      <td>24</td>\n",
              "      <td>25</td>\n",
              "      <td>18</td>\n",
              "      <td>26</td>\n",
              "    </tr>\n",
              "    <tr>\n",
              "      <th>4</th>\n",
              "      <td>2013</td>\n",
              "      <td>PROVINSI DKI JAKARTA</td>\n",
              "      <td>KAB.ADM.KEP.SERIBU</td>\n",
              "      <td>KEP. SERIBU SLT</td>\n",
              "      <td>P. TIDUNG</td>\n",
              "      <td>1.57</td>\n",
              "      <td>3084</td>\n",
              "      <td>98</td>\n",
              "      <td>75</td>\n",
              "      <td>73</td>\n",
              "      <td>94</td>\n",
              "      <td>67</td>\n",
              "      <td>69</td>\n",
              "      <td>60</td>\n",
              "      <td>40</td>\n",
              "      <td>37</td>\n",
              "      <td>32</td>\n",
              "      <td>22</td>\n",
              "      <td>13</td>\n",
              "      <td>18</td>\n",
              "      <td>15</td>\n",
              "      <td>10</td>\n",
              "      <td>18</td>\n",
              "      <td>11</td>\n",
              "      <td>17</td>\n",
              "    </tr>\n",
              "    <tr>\n",
              "      <th>5</th>\n",
              "      <td>2013</td>\n",
              "      <td>PROVINSI DKI JAKARTA</td>\n",
              "      <td>KAB.ADM.KEP.SERIBU</td>\n",
              "      <td>KEP. SERIBU SLT</td>\n",
              "      <td>P. PARI</td>\n",
              "      <td>1.39</td>\n",
              "      <td>1968</td>\n",
              "      <td>113</td>\n",
              "      <td>112</td>\n",
              "      <td>108</td>\n",
              "      <td>80</td>\n",
              "      <td>66</td>\n",
              "      <td>62</td>\n",
              "      <td>61</td>\n",
              "      <td>63</td>\n",
              "      <td>37</td>\n",
              "      <td>36</td>\n",
              "      <td>32</td>\n",
              "      <td>26</td>\n",
              "      <td>21</td>\n",
              "      <td>14</td>\n",
              "      <td>17</td>\n",
              "      <td>11</td>\n",
              "      <td>8</td>\n",
              "      <td>7</td>\n",
              "    </tr>\n",
              "    <tr>\n",
              "      <th>6</th>\n",
              "      <td>2013</td>\n",
              "      <td>PROVINSI DKI JAKARTA</td>\n",
              "      <td>JAKARTA PUSAT</td>\n",
              "      <td>GAMBIR</td>\n",
              "      <td>GAMBIR</td>\n",
              "      <td>2.58</td>\n",
              "      <td>1350</td>\n",
              "      <td>166</td>\n",
              "      <td>174</td>\n",
              "      <td>130</td>\n",
              "      <td>165</td>\n",
              "      <td>176</td>\n",
              "      <td>162</td>\n",
              "      <td>129</td>\n",
              "      <td>97</td>\n",
              "      <td>108</td>\n",
              "      <td>90</td>\n",
              "      <td>88</td>\n",
              "      <td>42</td>\n",
              "      <td>68</td>\n",
              "      <td>34</td>\n",
              "      <td>37</td>\n",
              "      <td>32</td>\n",
              "      <td>34</td>\n",
              "      <td>23</td>\n",
              "    </tr>\n",
              "    <tr>\n",
              "      <th>...</th>\n",
              "      <td>...</td>\n",
              "      <td>...</td>\n",
              "      <td>...</td>\n",
              "      <td>...</td>\n",
              "      <td>...</td>\n",
              "      <td>...</td>\n",
              "      <td>...</td>\n",
              "      <td>...</td>\n",
              "      <td>...</td>\n",
              "      <td>...</td>\n",
              "      <td>...</td>\n",
              "      <td>...</td>\n",
              "      <td>...</td>\n",
              "      <td>...</td>\n",
              "      <td>...</td>\n",
              "      <td>...</td>\n",
              "      <td>...</td>\n",
              "      <td>...</td>\n",
              "      <td>...</td>\n",
              "      <td>...</td>\n",
              "      <td>...</td>\n",
              "      <td>...</td>\n",
              "      <td>...</td>\n",
              "      <td>...</td>\n",
              "      <td>...</td>\n",
              "    </tr>\n",
              "    <tr>\n",
              "      <th>262</th>\n",
              "      <td>2013</td>\n",
              "      <td>PROVINSI DKI JAKARTA</td>\n",
              "      <td>JAKARTA TIMUR</td>\n",
              "      <td>CIPAYUNG</td>\n",
              "      <td>MUNJUL</td>\n",
              "      <td>1.90</td>\n",
              "      <td>12734</td>\n",
              "      <td>1167</td>\n",
              "      <td>1112</td>\n",
              "      <td>1026</td>\n",
              "      <td>977</td>\n",
              "      <td>839</td>\n",
              "      <td>800</td>\n",
              "      <td>668</td>\n",
              "      <td>622</td>\n",
              "      <td>482</td>\n",
              "      <td>482</td>\n",
              "      <td>302</td>\n",
              "      <td>291</td>\n",
              "      <td>173</td>\n",
              "      <td>137</td>\n",
              "      <td>118</td>\n",
              "      <td>94</td>\n",
              "      <td>52</td>\n",
              "      <td>51</td>\n",
              "    </tr>\n",
              "    <tr>\n",
              "      <th>263</th>\n",
              "      <td>2013</td>\n",
              "      <td>PROVINSI DKI JAKARTA</td>\n",
              "      <td>JAKARTA TIMUR</td>\n",
              "      <td>CIPAYUNG</td>\n",
              "      <td>SETU</td>\n",
              "      <td>3.25</td>\n",
              "      <td>6028</td>\n",
              "      <td>937</td>\n",
              "      <td>928</td>\n",
              "      <td>857</td>\n",
              "      <td>824</td>\n",
              "      <td>705</td>\n",
              "      <td>640</td>\n",
              "      <td>512</td>\n",
              "      <td>471</td>\n",
              "      <td>392</td>\n",
              "      <td>354</td>\n",
              "      <td>254</td>\n",
              "      <td>211</td>\n",
              "      <td>124</td>\n",
              "      <td>115</td>\n",
              "      <td>64</td>\n",
              "      <td>83</td>\n",
              "      <td>59</td>\n",
              "      <td>64</td>\n",
              "    </tr>\n",
              "    <tr>\n",
              "      <th>264</th>\n",
              "      <td>2013</td>\n",
              "      <td>PROVINSI DKI JAKARTA</td>\n",
              "      <td>JAKARTA TIMUR</td>\n",
              "      <td>CIPAYUNG</td>\n",
              "      <td>BAMBU APUS</td>\n",
              "      <td>3.17</td>\n",
              "      <td>8400</td>\n",
              "      <td>1242</td>\n",
              "      <td>1187</td>\n",
              "      <td>1062</td>\n",
              "      <td>1063</td>\n",
              "      <td>984</td>\n",
              "      <td>917</td>\n",
              "      <td>731</td>\n",
              "      <td>841</td>\n",
              "      <td>596</td>\n",
              "      <td>476</td>\n",
              "      <td>377</td>\n",
              "      <td>250</td>\n",
              "      <td>169</td>\n",
              "      <td>179</td>\n",
              "      <td>108</td>\n",
              "      <td>96</td>\n",
              "      <td>70</td>\n",
              "      <td>84</td>\n",
              "    </tr>\n",
              "    <tr>\n",
              "      <th>265</th>\n",
              "      <td>2013</td>\n",
              "      <td>PROVINSI DKI JAKARTA</td>\n",
              "      <td>JAKARTA TIMUR</td>\n",
              "      <td>CIPAYUNG</td>\n",
              "      <td>LUBANG BUAYA</td>\n",
              "      <td>3.72</td>\n",
              "      <td>18055</td>\n",
              "      <td>3258</td>\n",
              "      <td>2988</td>\n",
              "      <td>2732</td>\n",
              "      <td>2660</td>\n",
              "      <td>2311</td>\n",
              "      <td>2222</td>\n",
              "      <td>1766</td>\n",
              "      <td>1788</td>\n",
              "      <td>1376</td>\n",
              "      <td>1308</td>\n",
              "      <td>959</td>\n",
              "      <td>739</td>\n",
              "      <td>393</td>\n",
              "      <td>385</td>\n",
              "      <td>293</td>\n",
              "      <td>291</td>\n",
              "      <td>160</td>\n",
              "      <td>165</td>\n",
              "    </tr>\n",
              "    <tr>\n",
              "      <th>266</th>\n",
              "      <td>2013</td>\n",
              "      <td>PROVINSI DKI JAKARTA</td>\n",
              "      <td>JAKARTA TIMUR</td>\n",
              "      <td>CIPAYUNG</td>\n",
              "      <td>CEGER</td>\n",
              "      <td>3.63</td>\n",
              "      <td>5492</td>\n",
              "      <td>1007</td>\n",
              "      <td>930</td>\n",
              "      <td>874</td>\n",
              "      <td>804</td>\n",
              "      <td>701</td>\n",
              "      <td>652</td>\n",
              "      <td>493</td>\n",
              "      <td>503</td>\n",
              "      <td>416</td>\n",
              "      <td>390</td>\n",
              "      <td>279</td>\n",
              "      <td>214</td>\n",
              "      <td>110</td>\n",
              "      <td>153</td>\n",
              "      <td>101</td>\n",
              "      <td>53</td>\n",
              "      <td>45</td>\n",
              "      <td>44</td>\n",
              "    </tr>\n",
              "  </tbody>\n",
              "</table>\n",
              "<p>195 rows × 25 columns</p>\n",
              "</div>"
            ],
            "text/plain": [
              "     TAHUN         NAMA PROVINSI  ... >75 Laki-Laki >75  Perempuan\n",
              "1     2013  PROVINSI DKI JAKARTA  ...             5              8\n",
              "2     2013  PROVINSI DKI JAKARTA  ...            18             26\n",
              "4     2013  PROVINSI DKI JAKARTA  ...            11             17\n",
              "5     2013  PROVINSI DKI JAKARTA  ...             8              7\n",
              "6     2013  PROVINSI DKI JAKARTA  ...            34             23\n",
              "..     ...                   ...  ...           ...            ...\n",
              "262   2013  PROVINSI DKI JAKARTA  ...            52             51\n",
              "263   2013  PROVINSI DKI JAKARTA  ...            59             64\n",
              "264   2013  PROVINSI DKI JAKARTA  ...            70             84\n",
              "265   2013  PROVINSI DKI JAKARTA  ...           160            165\n",
              "266   2013  PROVINSI DKI JAKARTA  ...            45             44\n",
              "\n",
              "[195 rows x 25 columns]"
            ]
          },
          "metadata": {
            "tags": []
          },
          "execution_count": 15
        }
      ]
    },
    {
      "cell_type": "markdown",
      "metadata": {
        "id": "rdRdiTCdr3UA"
      },
      "source": [
        "Terlihat yang ditampilkan adalah data2 dengan luas wilayah >1. Bisa juga diberikan 2 kondisi dan gunakan logical operator"
      ]
    },
    {
      "cell_type": "code",
      "metadata": {
        "colab": {
          "base_uri": "https://localhost:8080/",
          "height": 170
        },
        "id": "5044jy2Nrquw",
        "outputId": "61764801-f5a1-4180-9571-87a72f0c4d44"
      },
      "source": [
        "df[(df['LUAS WILAYAH (KM2)']>1) & (df['KEPADATAN (JIWA/KM2)'] < 1000)]  #  & (and) artinya dua2nyah harus terpenuhi"
      ],
      "execution_count": null,
      "outputs": [
        {
          "output_type": "execute_result",
          "data": {
            "text/html": [
              "<div>\n",
              "<style scoped>\n",
              "    .dataframe tbody tr th:only-of-type {\n",
              "        vertical-align: middle;\n",
              "    }\n",
              "\n",
              "    .dataframe tbody tr th {\n",
              "        vertical-align: top;\n",
              "    }\n",
              "\n",
              "    .dataframe thead th {\n",
              "        text-align: right;\n",
              "    }\n",
              "</style>\n",
              "<table border=\"1\" class=\"dataframe\">\n",
              "  <thead>\n",
              "    <tr style=\"text-align: right;\">\n",
              "      <th></th>\n",
              "      <th>TAHUN</th>\n",
              "      <th>NAMA PROVINSI</th>\n",
              "      <th>NAMA KABUPATEN/KOTA</th>\n",
              "      <th>NAMA KECAMATAN</th>\n",
              "      <th>NAMA KELURAHAN</th>\n",
              "      <th>LUAS WILAYAH (KM2)</th>\n",
              "      <th>KEPADATAN (JIWA/KM2)</th>\n",
              "      <th>35-39 Laki-Laki</th>\n",
              "      <th>35-39 Perempuan</th>\n",
              "      <th>40-44 Laki-Laki</th>\n",
              "      <th>40-44 Perempuan</th>\n",
              "      <th>45-49 Laki-Laki</th>\n",
              "      <th>45-49 Perempuan</th>\n",
              "      <th>50-54 Laki-Laki</th>\n",
              "      <th>50-54 Perempuan</th>\n",
              "      <th>55-59 Laki-Laki</th>\n",
              "      <th>55-59 Perempuan</th>\n",
              "      <th>60-64 Laki-Laki</th>\n",
              "      <th>60-64 Perempuan</th>\n",
              "      <th>65-69 Laki-Laki</th>\n",
              "      <th>65-69 Perempuan</th>\n",
              "      <th>70-74 Laki-Laki</th>\n",
              "      <th>70-74 Perempuan</th>\n",
              "      <th>&gt;75 Laki-Laki</th>\n",
              "      <th>&gt;75  Perempuan</th>\n",
              "      <th>gabungan_50-54</th>\n",
              "    </tr>\n",
              "  </thead>\n",
              "  <tbody>\n",
              "    <tr>\n",
              "      <th>2</th>\n",
              "      <td>2013</td>\n",
              "      <td>PROVINSI DKI JAKARTA</td>\n",
              "      <td>KAB.ADM.KEP.SERIBU</td>\n",
              "      <td>KEP. SERIBU UTR</td>\n",
              "      <td>P. HARAPAN</td>\n",
              "      <td>3.59</td>\n",
              "      <td>628</td>\n",
              "      <td>255</td>\n",
              "      <td>238</td>\n",
              "      <td>232</td>\n",
              "      <td>234</td>\n",
              "      <td>212</td>\n",
              "      <td>193</td>\n",
              "      <td>150</td>\n",
              "      <td>161</td>\n",
              "      <td>139</td>\n",
              "      <td>101</td>\n",
              "      <td>73</td>\n",
              "      <td>56</td>\n",
              "      <td>18</td>\n",
              "      <td>35</td>\n",
              "      <td>24</td>\n",
              "      <td>25</td>\n",
              "      <td>18</td>\n",
              "      <td>26</td>\n",
              "      <td>311</td>\n",
              "    </tr>\n",
              "  </tbody>\n",
              "</table>\n",
              "</div>"
            ],
            "text/plain": [
              "   TAHUN         NAMA PROVINSI  ... >75  Perempuan gabungan_50-54\n",
              "2   2013  PROVINSI DKI JAKARTA  ...             26            311\n",
              "\n",
              "[1 rows x 26 columns]"
            ]
          },
          "metadata": {
            "tags": []
          },
          "execution_count": 87
        }
      ]
    },
    {
      "cell_type": "code",
      "metadata": {
        "colab": {
          "base_uri": "https://localhost:8080/",
          "height": 302
        },
        "id": "sEUUdJ--sRDk",
        "outputId": "c6d56c91-b960-4ec1-9748-34695fcaa91c"
      },
      "source": [
        "df[(df['LUAS WILAYAH (KM2)']>1) | (df['KEPADATAN (JIWA/KM2)'] < 1000)].head(3)  #  | (or) artinya yg penting salah satu terpenuhi"
      ],
      "execution_count": null,
      "outputs": [
        {
          "output_type": "execute_result",
          "data": {
            "text/html": [
              "<div>\n",
              "<style scoped>\n",
              "    .dataframe tbody tr th:only-of-type {\n",
              "        vertical-align: middle;\n",
              "    }\n",
              "\n",
              "    .dataframe tbody tr th {\n",
              "        vertical-align: top;\n",
              "    }\n",
              "\n",
              "    .dataframe thead th {\n",
              "        text-align: right;\n",
              "    }\n",
              "</style>\n",
              "<table border=\"1\" class=\"dataframe\">\n",
              "  <thead>\n",
              "    <tr style=\"text-align: right;\">\n",
              "      <th></th>\n",
              "      <th>TAHUN</th>\n",
              "      <th>NAMA PROVINSI</th>\n",
              "      <th>NAMA KABUPATEN/KOTA</th>\n",
              "      <th>NAMA KECAMATAN</th>\n",
              "      <th>NAMA KELURAHAN</th>\n",
              "      <th>LUAS WILAYAH (KM2)</th>\n",
              "      <th>KEPADATAN (JIWA/KM2)</th>\n",
              "      <th>35-39 Laki-Laki</th>\n",
              "      <th>35-39 Perempuan</th>\n",
              "      <th>40-44 Laki-Laki</th>\n",
              "      <th>40-44 Perempuan</th>\n",
              "      <th>45-49 Laki-Laki</th>\n",
              "      <th>45-49 Perempuan</th>\n",
              "      <th>50-54 Laki-Laki</th>\n",
              "      <th>50-54 Perempuan</th>\n",
              "      <th>55-59 Laki-Laki</th>\n",
              "      <th>55-59 Perempuan</th>\n",
              "      <th>60-64 Laki-Laki</th>\n",
              "      <th>60-64 Perempuan</th>\n",
              "      <th>65-69 Laki-Laki</th>\n",
              "      <th>65-69 Perempuan</th>\n",
              "      <th>70-74 Laki-Laki</th>\n",
              "      <th>70-74 Perempuan</th>\n",
              "      <th>&gt;75 Laki-Laki</th>\n",
              "      <th>&gt;75  Perempuan</th>\n",
              "      <th>gabungan_50-54</th>\n",
              "    </tr>\n",
              "  </thead>\n",
              "  <tbody>\n",
              "    <tr>\n",
              "      <th>1</th>\n",
              "      <td>2013</td>\n",
              "      <td>PROVINSI DKI JAKARTA</td>\n",
              "      <td>KAB.ADM.KEP.SERIBU</td>\n",
              "      <td>KEP. SERIBU UTR</td>\n",
              "      <td>P. KELAPA</td>\n",
              "      <td>3.76</td>\n",
              "      <td>1705</td>\n",
              "      <td>84</td>\n",
              "      <td>88</td>\n",
              "      <td>99</td>\n",
              "      <td>88</td>\n",
              "      <td>72</td>\n",
              "      <td>63</td>\n",
              "      <td>34</td>\n",
              "      <td>29</td>\n",
              "      <td>30</td>\n",
              "      <td>39</td>\n",
              "      <td>29</td>\n",
              "      <td>24</td>\n",
              "      <td>12</td>\n",
              "      <td>21</td>\n",
              "      <td>13</td>\n",
              "      <td>5</td>\n",
              "      <td>5</td>\n",
              "      <td>8</td>\n",
              "      <td>63</td>\n",
              "    </tr>\n",
              "    <tr>\n",
              "      <th>2</th>\n",
              "      <td>2013</td>\n",
              "      <td>PROVINSI DKI JAKARTA</td>\n",
              "      <td>KAB.ADM.KEP.SERIBU</td>\n",
              "      <td>KEP. SERIBU UTR</td>\n",
              "      <td>P. HARAPAN</td>\n",
              "      <td>3.59</td>\n",
              "      <td>628</td>\n",
              "      <td>255</td>\n",
              "      <td>238</td>\n",
              "      <td>232</td>\n",
              "      <td>234</td>\n",
              "      <td>212</td>\n",
              "      <td>193</td>\n",
              "      <td>150</td>\n",
              "      <td>161</td>\n",
              "      <td>139</td>\n",
              "      <td>101</td>\n",
              "      <td>73</td>\n",
              "      <td>56</td>\n",
              "      <td>18</td>\n",
              "      <td>35</td>\n",
              "      <td>24</td>\n",
              "      <td>25</td>\n",
              "      <td>18</td>\n",
              "      <td>26</td>\n",
              "      <td>311</td>\n",
              "    </tr>\n",
              "    <tr>\n",
              "      <th>4</th>\n",
              "      <td>2013</td>\n",
              "      <td>PROVINSI DKI JAKARTA</td>\n",
              "      <td>KAB.ADM.KEP.SERIBU</td>\n",
              "      <td>KEP. SERIBU SLT</td>\n",
              "      <td>P. TIDUNG</td>\n",
              "      <td>1.57</td>\n",
              "      <td>3084</td>\n",
              "      <td>98</td>\n",
              "      <td>75</td>\n",
              "      <td>73</td>\n",
              "      <td>94</td>\n",
              "      <td>67</td>\n",
              "      <td>69</td>\n",
              "      <td>60</td>\n",
              "      <td>40</td>\n",
              "      <td>37</td>\n",
              "      <td>32</td>\n",
              "      <td>22</td>\n",
              "      <td>13</td>\n",
              "      <td>18</td>\n",
              "      <td>15</td>\n",
              "      <td>10</td>\n",
              "      <td>18</td>\n",
              "      <td>11</td>\n",
              "      <td>17</td>\n",
              "      <td>100</td>\n",
              "    </tr>\n",
              "  </tbody>\n",
              "</table>\n",
              "</div>"
            ],
            "text/plain": [
              "   TAHUN         NAMA PROVINSI  ... >75  Perempuan gabungan_50-54\n",
              "1   2013  PROVINSI DKI JAKARTA  ...              8             63\n",
              "2   2013  PROVINSI DKI JAKARTA  ...             26            311\n",
              "4   2013  PROVINSI DKI JAKARTA  ...             17            100\n",
              "\n",
              "[3 rows x 26 columns]"
            ]
          },
          "metadata": {
            "tags": []
          },
          "execution_count": 89
        }
      ]
    },
    {
      "cell_type": "markdown",
      "metadata": {
        "id": "cu-26FWzs1Zi"
      },
      "source": [
        "Selain operator & dan |, dapat digunakan juga operator ~, yaitu negasi."
      ]
    },
    {
      "cell_type": "code",
      "metadata": {
        "colab": {
          "base_uri": "https://localhost:8080/",
          "height": 302
        },
        "id": "eqrwmlLEsht7",
        "outputId": "b53d0e88-a75d-4f40-8600-31d293a54b4b"
      },
      "source": [
        "df[~((df['LUAS WILAYAH (KM2)']>1) & (df['LUAS WILAYAH (KM2)']<3))] .head(3)  #selain yang di range 1-3"
      ],
      "execution_count": null,
      "outputs": [
        {
          "output_type": "execute_result",
          "data": {
            "text/html": [
              "<div>\n",
              "<style scoped>\n",
              "    .dataframe tbody tr th:only-of-type {\n",
              "        vertical-align: middle;\n",
              "    }\n",
              "\n",
              "    .dataframe tbody tr th {\n",
              "        vertical-align: top;\n",
              "    }\n",
              "\n",
              "    .dataframe thead th {\n",
              "        text-align: right;\n",
              "    }\n",
              "</style>\n",
              "<table border=\"1\" class=\"dataframe\">\n",
              "  <thead>\n",
              "    <tr style=\"text-align: right;\">\n",
              "      <th></th>\n",
              "      <th>TAHUN</th>\n",
              "      <th>NAMA PROVINSI</th>\n",
              "      <th>NAMA KABUPATEN/KOTA</th>\n",
              "      <th>NAMA KECAMATAN</th>\n",
              "      <th>NAMA KELURAHAN</th>\n",
              "      <th>LUAS WILAYAH (KM2)</th>\n",
              "      <th>KEPADATAN (JIWA/KM2)</th>\n",
              "      <th>35-39 Laki-Laki</th>\n",
              "      <th>35-39 Perempuan</th>\n",
              "      <th>40-44 Laki-Laki</th>\n",
              "      <th>40-44 Perempuan</th>\n",
              "      <th>45-49 Laki-Laki</th>\n",
              "      <th>45-49 Perempuan</th>\n",
              "      <th>50-54 Laki-Laki</th>\n",
              "      <th>50-54 Perempuan</th>\n",
              "      <th>55-59 Laki-Laki</th>\n",
              "      <th>55-59 Perempuan</th>\n",
              "      <th>60-64 Laki-Laki</th>\n",
              "      <th>60-64 Perempuan</th>\n",
              "      <th>65-69 Laki-Laki</th>\n",
              "      <th>65-69 Perempuan</th>\n",
              "      <th>70-74 Laki-Laki</th>\n",
              "      <th>70-74 Perempuan</th>\n",
              "      <th>&gt;75 Laki-Laki</th>\n",
              "      <th>&gt;75  Perempuan</th>\n",
              "      <th>gabungan_50-54</th>\n",
              "    </tr>\n",
              "  </thead>\n",
              "  <tbody>\n",
              "    <tr>\n",
              "      <th>0</th>\n",
              "      <td>2013</td>\n",
              "      <td>PROVINSI DKI JAKARTA</td>\n",
              "      <td>KAB.ADM.KEP.SERIBU</td>\n",
              "      <td>KEP. SERIBU UTR</td>\n",
              "      <td>P. PANGGANG</td>\n",
              "      <td>0.91</td>\n",
              "      <td>6779</td>\n",
              "      <td>231</td>\n",
              "      <td>235</td>\n",
              "      <td>233</td>\n",
              "      <td>210</td>\n",
              "      <td>171</td>\n",
              "      <td>158</td>\n",
              "      <td>137</td>\n",
              "      <td>126</td>\n",
              "      <td>98</td>\n",
              "      <td>106</td>\n",
              "      <td>72</td>\n",
              "      <td>65</td>\n",
              "      <td>36</td>\n",
              "      <td>33</td>\n",
              "      <td>33</td>\n",
              "      <td>20</td>\n",
              "      <td>13</td>\n",
              "      <td>27</td>\n",
              "      <td>263</td>\n",
              "    </tr>\n",
              "    <tr>\n",
              "      <th>1</th>\n",
              "      <td>2013</td>\n",
              "      <td>PROVINSI DKI JAKARTA</td>\n",
              "      <td>KAB.ADM.KEP.SERIBU</td>\n",
              "      <td>KEP. SERIBU UTR</td>\n",
              "      <td>P. KELAPA</td>\n",
              "      <td>3.76</td>\n",
              "      <td>1705</td>\n",
              "      <td>84</td>\n",
              "      <td>88</td>\n",
              "      <td>99</td>\n",
              "      <td>88</td>\n",
              "      <td>72</td>\n",
              "      <td>63</td>\n",
              "      <td>34</td>\n",
              "      <td>29</td>\n",
              "      <td>30</td>\n",
              "      <td>39</td>\n",
              "      <td>29</td>\n",
              "      <td>24</td>\n",
              "      <td>12</td>\n",
              "      <td>21</td>\n",
              "      <td>13</td>\n",
              "      <td>5</td>\n",
              "      <td>5</td>\n",
              "      <td>8</td>\n",
              "      <td>63</td>\n",
              "    </tr>\n",
              "    <tr>\n",
              "      <th>2</th>\n",
              "      <td>2013</td>\n",
              "      <td>PROVINSI DKI JAKARTA</td>\n",
              "      <td>KAB.ADM.KEP.SERIBU</td>\n",
              "      <td>KEP. SERIBU UTR</td>\n",
              "      <td>P. HARAPAN</td>\n",
              "      <td>3.59</td>\n",
              "      <td>628</td>\n",
              "      <td>255</td>\n",
              "      <td>238</td>\n",
              "      <td>232</td>\n",
              "      <td>234</td>\n",
              "      <td>212</td>\n",
              "      <td>193</td>\n",
              "      <td>150</td>\n",
              "      <td>161</td>\n",
              "      <td>139</td>\n",
              "      <td>101</td>\n",
              "      <td>73</td>\n",
              "      <td>56</td>\n",
              "      <td>18</td>\n",
              "      <td>35</td>\n",
              "      <td>24</td>\n",
              "      <td>25</td>\n",
              "      <td>18</td>\n",
              "      <td>26</td>\n",
              "      <td>311</td>\n",
              "    </tr>\n",
              "  </tbody>\n",
              "</table>\n",
              "</div>"
            ],
            "text/plain": [
              "   TAHUN         NAMA PROVINSI  ... >75  Perempuan gabungan_50-54\n",
              "0   2013  PROVINSI DKI JAKARTA  ...             27            263\n",
              "1   2013  PROVINSI DKI JAKARTA  ...              8             63\n",
              "2   2013  PROVINSI DKI JAKARTA  ...             26            311\n",
              "\n",
              "[3 rows x 26 columns]"
            ]
          },
          "metadata": {
            "tags": []
          },
          "execution_count": 94
        }
      ]
    }
  ]
}